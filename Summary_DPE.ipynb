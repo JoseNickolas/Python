{
 "cells": [
  {
   "cell_type": "code",
   "execution_count": 1,
   "metadata": {},
   "outputs": [
    {
     "name": "stdout",
     "output_type": "stream",
     "text": [
      "singing 2\n",
      "in 1\n",
      "the 1\n",
      "rain 2\n",
      "and 1\n",
      "playing 2\n",
      "in 1\n",
      "the 1\n",
      "rain 2\n",
      "are 2\n",
      "two 1\n",
      "entirely 3\n",
      "different 3\n",
      "situations 5\n",
      "but 1\n",
      "both 1\n",
      "can 1\n",
      "be 1\n",
      "fun 1\n"
     ]
    }
   ],
   "source": [
    "# count vowels on each word\n",
    "\n",
    "s = \"singing in the rain and playing in the rain are two entirely different situations but both can be fun\"\n",
    "s = s.split()\n",
    "vowels = ['a', 'e', 'i', 'o', 'u']\n",
    "\n",
    "for word in s:\n",
    "    ct = 0\n",
    "    for char in word:\n",
    "        if char in vowels:\n",
    "            ct += 1\n",
    "    print(word, ct)"
   ]
  },
  {
   "cell_type": "code",
   "execution_count": 2,
   "metadata": {},
   "outputs": [
    {
     "data": {
      "text/plain": [
       "32"
      ]
     },
     "execution_count": 2,
     "metadata": {},
     "output_type": "execute_result"
    }
   ],
   "source": [
    "# print TOTAL ONLY of vowels in s\n",
    "s = \"singing in the rain and playing in the rain are two entirely different situations but both can be fun\"\n",
    "\n",
    "vowels = ['a', 'e', 'i', 'o', 'u']\n",
    "\n",
    "num_vowels = 0\n",
    "\n",
    "for char in s:\n",
    "    if char in vowels:\n",
    "        num_vowels += 1\n",
    "num_vowels"
   ]
  },
  {
   "cell_type": "code",
   "execution_count": 3,
   "metadata": {},
   "outputs": [
    {
     "name": "stdout",
     "output_type": "stream",
     "text": [
      "a\n",
      "level\n",
      "general\n",
      "purpose\n",
      "programming\n",
      "language\n",
      "that\n",
      "can\n",
      "be\n",
      "applied\n",
      "many\n",
      "different\n",
      "classes\n",
      "problems.\n"
     ]
    },
    {
     "data": {
      "text/plain": [
       "14"
      ]
     },
     "execution_count": 3,
     "metadata": {},
     "output_type": "execute_result"
    }
   ],
   "source": [
    "# count the words that have the word \"a\" or \"e\" and put them in the num_word_a_or_e\n",
    "sentence = \"python is a high level general purpose programming language that can be applied to many different classes of problems.\"\n",
    "sentence = sentence.split()\n",
    "\n",
    "num_a_or_e = 0\n",
    "\n",
    "for word in sentence:\n",
    "    if 'a' in word:\n",
    "        print(word)\n",
    "        num_a_or_e += 1\n",
    "    elif \"e\" in word:\n",
    "        print(word)\n",
    "        num_a_or_e += 1\n",
    "num_a_or_e"
   ]
  },
  {
   "cell_type": "code",
   "execution_count": 4,
   "metadata": {},
   "outputs": [
    {
     "name": "stdout",
     "output_type": "stream",
     "text": [
      "whirring\n",
      "wow!\n",
      "wry\n",
      "owing\n"
     ]
    },
    {
     "data": {
      "text/plain": [
       "4"
      ]
     },
     "execution_count": 4,
     "metadata": {},
     "output_type": "execute_result"
    }
   ],
   "source": [
    "# count the words that have the word 'w' in them\n",
    "items = [\"whirring\", \"wow!\", \"calendar\", \"wry\", \"glass\", \"\", \"llama\",\"tumultuous\",\"owing\"]\n",
    "\n",
    "accum_num = 0\n",
    "\n",
    "for word in items:\n",
    "    if 'w' in word:\n",
    "        print(word)\n",
    "        accum_num += 1\n",
    "accum_num"
   ]
  },
  {
   "cell_type": "code",
   "execution_count": 5,
   "metadata": {},
   "outputs": [
    {
     "name": "stdout",
     "output_type": "stream",
     "text": [
      "students\n",
      "a\n"
     ]
    },
    {
     "data": {
      "text/plain": [
       "2"
      ]
     },
     "execution_count": 5,
     "metadata": {},
     "output_type": "execute_result"
    }
   ],
   "source": [
    "#count number of words that start and finish with the same letter\n",
    "sentence = \"students flock to the arb for a variety of outdoor activities such as jogging and picnicking\"\n",
    "sentence = sentence.split()\n",
    "\n",
    "same_letter_ct = 0\n",
    "\n",
    "for word in sentence:\n",
    "    if word[0] == word[-1]:\n",
    "        same_letter_ct += 1\n",
    "        print(word)\n",
    "same_letter_ct"
   ]
  },
  {
   "cell_type": "code",
   "execution_count": 6,
   "metadata": {},
   "outputs": [
    {
     "name": "stdout",
     "output_type": "stream",
     "text": [
      "['1.65', ' 1.46', ' 2.05', ' 3.03', ' 3.35', ' 3.46', ' 2.83', ' 3.23', ' 3.5', ' 2.52', ' 2.8', ' 1.85']\n"
     ]
    },
    {
     "data": {
      "text/plain": [
       "5"
      ]
     },
     "execution_count": 6,
     "metadata": {},
     "output_type": "execute_result"
    }
   ],
   "source": [
    "# create a count of months with greater than 3 inch rain\n",
    "rainfall_mi = \"1.65, 1.46, 2.05, 3.03, 3.35, 3.46, 2.83, 3.23, 3.5, 2.52, 2.8, 1.85\"\n",
    "rainfall_mi = rainfall_mi.split(',')\n",
    "print(rainfall_mi)\n",
    "\n",
    "ct = 0\n",
    "for rain in rainfall_mi:\n",
    "    rain = float(rain)\n",
    "    if rain > 3:\n",
    "        ct += 1\n",
    "ct"
   ]
  },
  {
   "cell_type": "code",
   "execution_count": 7,
   "metadata": {},
   "outputs": [
    {
     "data": {
      "text/plain": [
       "['adopted',\n",
       " 'baked',\n",
       " 'beamed',\n",
       " 'confided',\n",
       " 'grilled',\n",
       " 'planted',\n",
       " 'timed',\n",
       " 'waved',\n",
       " 'wished']"
      ]
     },
     "execution_count": 7,
     "metadata": {},
     "output_type": "execute_result"
    }
   ],
   "source": [
    "# create a list of past tense words from the list below, call it past tense, and add 'd' or 'ed' accordingly\n",
    "words = [\"adopt\", \"bake\", \"beam\", \"confide\", \"grill\", \"plant\", \"time\", \"wave\", \"wish\"]\n",
    "\n",
    "past_tense = []\n",
    "\n",
    "for word in words:\n",
    "    if word[-1] == 'e':\n",
    "        word = word + 'd'\n",
    "        past_tense.append(word)\n",
    "    else:\n",
    "        word = word + 'ed'\n",
    "        past_tense.append(word)\n",
    "past_tense"
   ]
  },
  {
   "cell_type": "code",
   "execution_count": 8,
   "metadata": {},
   "outputs": [
    {
     "name": "stdout",
     "output_type": "stream",
     "text": [
      " water : has 5 characters\n",
      " chair : has 5 characters\n",
      " basket : has 6 characters\n"
     ]
    },
    {
     "data": {
      "text/plain": [
       "3"
      ]
     },
     "execution_count": 8,
     "metadata": {},
     "output_type": "execute_result"
    }
   ],
   "source": [
    "# how many words have more than 3 characters\n",
    "words = [\"water\", \"chair\", \"pen\", \"basket\", \"hi\", \"car\"]\n",
    "\n",
    "num_words = 0\n",
    "\n",
    "for word in words:\n",
    "    word_len = len(word)\n",
    "    if word_len > 3:\n",
    "        print(f' {word} : has {word_len} characters')\n",
    "        num_words += 1\n",
    "num_words"
   ]
  },
  {
   "cell_type": "code",
   "execution_count": 9,
   "metadata": {},
   "outputs": [
    {
     "name": "stdout",
     "output_type": "stream",
     "text": [
      "Yes, it is you\n"
     ]
    }
   ],
   "source": [
    "# if true is in str1, etc.\n",
    "str1 = \"Today you are you! That is truer than true! There is no one alive who is you-er than you!\"\n",
    "\n",
    "if 'true' in str1:\n",
    "    print('Yes, it is you')\n",
    "elif 'fasle' in str1:\n",
    "    print(\"no you aren't you\")\n",
    "else:\n",
    "    print('Neither')"
   ]
  },
  {
   "cell_type": "code",
   "execution_count": 10,
   "metadata": {},
   "outputs": [
    {
     "data": {
      "text/plain": [
       "['Bring Umbrella',\n",
       " 'Nice day!',\n",
       " 'Bring Umbrella',\n",
       " 'Watch for the clouds',\n",
       " 'Nice day!',\n",
       " 'Nice day!',\n",
       " 'Watch for the clouds',\n",
       " 'Good for the flowers']"
      ]
     },
     "execution_count": 10,
     "metadata": {},
     "output_type": "execute_result"
    }
   ],
   "source": [
    "# create a list called resps for months with 90(Bring Umbrella), 80(Good for the flowers), 50(Watch for clouds), Nice day!\n",
    "percent_rain = [94.3, 45, 100, 78, 16, 5.3, 79, 86]\n",
    "\n",
    "resps = []\n",
    "\n",
    "for rain in percent_rain:\n",
    "    if rain > 90:\n",
    "        resps.append('Bring Umbrella')\n",
    "    elif rain > 80:\n",
    "        resps.append('Good for the flowers')\n",
    "    elif rain > 50:\n",
    "        resps.append('Watch for the clouds')\n",
    "    else:\n",
    "        resps.append('Nice day!')\n",
    "resps"
   ]
  },
  {
   "cell_type": "code",
   "execution_count": 11,
   "metadata": {},
   "outputs": [
    {
     "data": {
      "text/plain": [
       "'bbbbbbb'"
      ]
     },
     "execution_count": 11,
     "metadata": {},
     "output_type": "execute_result"
    }
   ],
   "source": [
    "# create a empty string and call it lett, and with 7 b's (bbbbbbb)\n",
    "lett = ''\n",
    "\n",
    "for b in range(7):\n",
    "    lett += 'b'\n",
    "lett"
   ]
  },
  {
   "cell_type": "code",
   "execution_count": 12,
   "metadata": {},
   "outputs": [
    {
     "data": {
      "text/plain": [
       "[3, 5, 5, 5, 6, 4, 3, 9, 4, 3]"
      ]
     },
     "execution_count": 12,
     "metadata": {},
     "output_type": "execute_result"
    }
   ],
   "source": [
    "# Create list of words lenghts\n",
    "original_str = \"The quick brown rhino jumped over the extremely lazy fox\"\n",
    "original_str = original_str.split()\n",
    "\n",
    "num_words_list = []\n",
    "\n",
    "for word in original_str:\n",
    "    word_len = len(word)\n",
    "    num_words_list.append(word_len)\n",
    "num_words_list"
   ]
  },
  {
   "cell_type": "code",
   "execution_count": 13,
   "metadata": {},
   "outputs": [
    {
     "name": "stdout",
     "output_type": "stream",
     "text": [
      "75.1\n",
      "76.4\n",
      "78.66666666666667\n",
      "79.625\n",
      "79.9\n",
      "79.83333333333333\n",
      "80.67142857142858\n"
     ]
    },
    {
     "data": {
      "text/plain": [
       "80.67142857142858"
      ]
     },
     "execution_count": 13,
     "metadata": {},
     "output_type": "execute_result"
    }
   ],
   "source": [
    "# Average temp\n",
    "week_temps_f = \"75.1,77.7,83.2,82.5,81.0,79.5,85.7\"\n",
    "week_temps_f = week_temps_f.split(',')\n",
    "# print(week_temps_f)\n",
    "\n",
    "avg_temp = 0 # don't really need to initialize a counter here\n",
    "ct = 0\n",
    "temp_acc = 0\n",
    "for temp in week_temps_f:\n",
    "    temp = float(temp)\n",
    "    ct += 1\n",
    "    temp_acc += temp\n",
    "    avg_temp = temp_acc / (ct)\n",
    "    print(avg_temp)\n",
    "avg_temp"
   ]
  },
  {
   "cell_type": "code",
   "execution_count": 14,
   "metadata": {},
   "outputs": [
    {
     "name": "stdout",
     "output_type": "stream",
     "text": [
      "St. Paul\n",
      "Saint Cloud\n",
      "Stillwater\n",
      "Seattle\n"
     ]
    }
   ],
   "source": [
    "## Adding an addictional for loop for dictionary practice\n",
    "# practice a for loop with cities in the nested dictionary below\n",
    "# extract the cities that start with S\n",
    "\n",
    "states = {\"Minnesota\": [\"St. Paul\", \"Minneapolis\", \"Saint Cloud\", \"Stillwater\"],\n",
    "          \"Michigan\": [\"Ann Arbor\", \"Traverse City\", \"Lansing\", \"Kalamazoo\"],\n",
    "          \"Washington\": [\"Seattle\", \"Tacoma\", \"Olympia\", \"Vancouver\"]}\n",
    "\n",
    "\n",
    "for state in states:\n",
    "    cities = list(states[state])\n",
    "    for city in cities:\n",
    "        if city[0] == 'S':\n",
    "            print(city)"
   ]
  },
  {
   "cell_type": "markdown",
   "metadata": {},
   "source": [
    "# Dictionary Practice"
   ]
  },
  {
   "cell_type": "code",
   "execution_count": 15,
   "metadata": {},
   "outputs": [
    {
     "data": {
      "text/plain": [
       "{'Adrian': 7,\n",
       " 'Dirado': 4,\n",
       " 'Ledecky': 5,\n",
       " 'Lochte': 12,\n",
       " 'Manuel': 4,\n",
       " 'Phelps': 23}"
      ]
     },
     "execution_count": 15,
     "metadata": {},
     "output_type": "execute_result"
    }
   ],
   "source": [
    "# add an additional key-value pair for Phelps with 23 as value\n",
    "\n",
    "swimmers = {'Manuel':4, 'Lochte':12, 'Adrian':7, 'Ledecky':5, 'Dirado':4}\n",
    "swimmers['Phelps'] = 23\n",
    "swimmers"
   ]
  },
  {
   "cell_type": "code",
   "execution_count": 16,
   "metadata": {},
   "outputs": [
    {
     "data": {
      "text/plain": [
       "{'baseball': 9, 'basketball': 4, 'cricket': 2, 'hockey': 3, 'soccer': 4}"
      ]
     },
     "execution_count": 16,
     "metadata": {},
     "output_type": "execute_result"
    }
   ],
   "source": [
    "# add hockey to the dictionary with a value of 3\n",
    "\n",
    "sports_periods = {'baseball': 9, 'basketball': 4, 'soccer': 4, 'cricket': 2}\n",
    "sports_periods['hockey'] = 3\n",
    "sports_periods"
   ]
  },
  {
   "cell_type": "code",
   "execution_count": 17,
   "metadata": {},
   "outputs": [
    {
     "data": {
      "text/plain": [
       "{'Argentina': 8,\n",
       " 'Brazil': 15,\n",
       " 'Canada': 22,\n",
       " 'China': 27,\n",
       " 'England': 29,\n",
       " 'Italy': 12,\n",
       " 'Spain': 21,\n",
       " 'USA': 33}"
      ]
     },
     "execution_count": 17,
     "metadata": {},
     "output_type": "execute_result"
    }
   ],
   "source": [
    "# add 2 more medals for Spain and update the dictionary\n",
    "golds = {\"Italy\": 12, \"USA\": 33, \"Brazil\": 15, \"China\": 27, \"Spain\": 19, \"Canada\": 22, \"Argentina\": 8, \"England\": 29}\n",
    "golds['Spain'] = golds['Spain'] + 2\n",
    "golds"
   ]
  },
  {
   "cell_type": "code",
   "execution_count": 18,
   "metadata": {},
   "outputs": [
    {
     "data": {
      "text/plain": [
       "['Italy', 'USA', 'Brazil', 'China', 'Spain', 'Canada', 'Argentina', 'England']"
      ]
     },
     "execution_count": 18,
     "metadata": {},
     "output_type": "execute_result"
    }
   ],
   "source": [
    "# create a list of countries and assign it to the variable countries\n",
    "\n",
    "golds = {\"Italy\": 12, \"USA\": 33, \"Brazil\": 15, \"China\": 27, \"Spain\": 19, \"Canada\": 22, \"Argentina\": 8, \"England\": 29}\n",
    "countries = list(golds)\n",
    "countries"
   ]
  },
  {
   "cell_type": "code",
   "execution_count": 19,
   "metadata": {},
   "outputs": [
    {
     "data": {
      "text/plain": [
       "13"
      ]
     },
     "execution_count": 19,
     "metadata": {},
     "output_type": "execute_result"
    }
   ],
   "source": [
    "# find the total number of medals Chile has won\n",
    "total_golds = {\"Italy\": 114, \"Germany\": 782, \"Pakistan\": 10, \"Sweden\": 627, \"USA\": 2681, \"Zimbabwe\": 8, \"Greece\": 111, \"Mongolia\": 24, \"Brazil\": 108, \"Croatia\": 34, \"Algeria\": 15, \"Switzerland\": 323, \"Yugoslavia\": 87, \"China\": 526, \"Egypt\": 26, \"Norway\": 477, \"Spain\": 133, \"Australia\": 480, \"Slovakia\": 29, \"Canada\": 22, \"New Zealand\": 100, \"Denmark\": 180, \"Chile\": 13, \"Argentina\": 70, \"Thailand\": 24, \"Cuba\": 209, \"Uganda\": 7,  \"England\": 806, \"Denmark\": 180, \"Ukraine\": 122, \"Bahamas\": 12}\n",
    "chile_golds = total_golds['Chile']\n",
    "chile_golds"
   ]
  },
  {
   "cell_type": "code",
   "execution_count": 20,
   "metadata": {},
   "outputs": [
    {
     "data": {
      "text/plain": [
       "19"
      ]
     },
     "execution_count": 20,
     "metadata": {},
     "output_type": "execute_result"
    }
   ],
   "source": [
    "# find out the total number of countries (total value)\n",
    "travel = {\"North America\": 2, \"Europe\": 8, \"South America\": 3, \"Asia\": 4, \"Africa\":1, \"Antarctica\": 0, \"Australia\": 1}\n",
    "\n",
    "total = 0\n",
    "\n",
    "for continent in travel:\n",
    "    total += travel[continent]\n",
    "total"
   ]
  },
  {
   "cell_type": "code",
   "execution_count": 21,
   "metadata": {},
   "outputs": [
    {
     "data": {
      "text/plain": [
       "18"
      ]
     },
     "execution_count": 21,
     "metadata": {},
     "output_type": "execute_result"
    }
   ],
   "source": [
    "# compute total num of credits\n",
    "\n",
    "Junior = {'SI 206':4, 'SI 310':4, 'BL 300':3, 'TO 313':3, 'BCOM 350':1, 'MO 300':3}\n",
    "\n",
    "tot_cred = 0\n",
    "\n",
    "for course in Junior:\n",
    "    tot_cred += Junior[course]\n",
    "tot_cred"
   ]
  },
  {
   "cell_type": "code",
   "execution_count": 22,
   "metadata": {},
   "outputs": [
    {
     "data": {
      "text/plain": [
       "337353"
      ]
     },
     "execution_count": 22,
     "metadata": {},
     "output_type": "execute_result"
    }
   ],
   "source": [
    "# ***QUITE USEFUL compute a total score for the scarlet study (scarlet.txt)***\n",
    "\n",
    "f = open('scarlet.txt', 'r')\n",
    "txt = f.read()\n",
    "\n",
    "scarlet = {}\n",
    "\n",
    "for char in txt:\n",
    "    if char not in scarlet:\n",
    "        scarlet[char] = 0\n",
    "    scarlet[char] += 1\n",
    "#print(scarlet)\n",
    "\n",
    "letter_values = {'a': 1, 'b': 3, 'c': 3, 'd': 2, 'e': 1, 'f':4, 'g': 2, 'h':4, 'i':1, 'j':8, 'k':5, 'l':1, 'm':3, 'n':1, 'o':1, 'p':3, 'q':10, 'r':1, 's':1, 't':1, 'u':1, 'v':4, 'w':4, 'x':8, 'y':4, 'z':10}\n",
    "\n",
    "tot = 0\n",
    "\n",
    "for letter in scarlet:\n",
    "    if letter in letter_values:\n",
    "        tot += letter_values[letter] * scarlet[letter]\n",
    "tot"
   ]
  },
  {
   "cell_type": "code",
   "execution_count": 23,
   "metadata": {},
   "outputs": [
    {
     "name": "stdout",
     "output_type": "stream",
     "text": [
      "p appears 9 times \n",
      "e appears 8 times \n",
      "  appears 7 times \n",
      "r appears 3 times \n",
      "i appears 3 times \n",
      "c appears 3 times \n",
      "k appears 3 times \n",
      "d appears 2 times \n",
      "t appears 1 times \n",
      "a appears 1 times \n",
      "o appears 1 times \n",
      "f appears 1 times \n",
      "l appears 1 times \n",
      "s appears 1 times \n"
     ]
    }
   ],
   "source": [
    "# create a dictionary called freq that counts the number of each letter\n",
    "str1 = \"peter piper picked a peck of pickled peppers\"\n",
    "\n",
    "freq = {}\n",
    "\n",
    "for char in str1:\n",
    "    if char not in freq:\n",
    "        freq[char] = 0\n",
    "    freq[char] += 1\n",
    "\n",
    "sort_freq = sorted(freq, key = lambda key: freq[key], reverse = True)\n",
    "\n",
    "for key in sort_freq:\n",
    "    print('{} appears {} times '.format(key, freq[key]))"
   ]
  },
  {
   "cell_type": "code",
   "execution_count": 24,
   "metadata": {},
   "outputs": [
    {
     "data": {
      "text/plain": [
       "{'e': 1, 'h': 1, 'l': 2, 'o': 1}"
      ]
     },
     "execution_count": 24,
     "metadata": {},
     "output_type": "execute_result"
    }
   ],
   "source": [
    "# count each letter in a dict\n",
    "s1 = \"hello\"\n",
    "\n",
    "counts = {}\n",
    "\n",
    "for char in s1:\n",
    "    if char not in counts:\n",
    "        counts[char] = 0\n",
    "    counts[char] += 1\n",
    "counts"
   ]
  },
  {
   "cell_type": "code",
   "execution_count": 25,
   "metadata": {},
   "outputs": [
    {
     "data": {
      "text/plain": [
       "{'I': 2,\n",
       " 'a': 1,\n",
       " 'all': 1,\n",
       " 'apart': 1,\n",
       " 'dragons': 1,\n",
       " 'fly': 1,\n",
       " 'heart': 1,\n",
       " 'in': 1,\n",
       " 'land': 1,\n",
       " 'my': 1,\n",
       " 'to': 1,\n",
       " 'wish': 2,\n",
       " 'with': 2}"
      ]
     },
     "execution_count": 25,
     "metadata": {},
     "output_type": "execute_result"
    }
   ],
   "source": [
    "# create a dict that counts each word\n",
    "str1 = \"I wish I wish with all my heart to fly with dragons in a land apart\"\n",
    "str1 = str1.split()\n",
    "\n",
    "freq_words = {}\n",
    "\n",
    "for word in str1:\n",
    "    if word not in freq_words:\n",
    "        freq_words[word] = 0\n",
    "    freq_words[word] += 1\n",
    "freq_words"
   ]
  },
  {
   "cell_type": "code",
   "execution_count": 26,
   "metadata": {},
   "outputs": [
    {
     "data": {
      "text/plain": [
       "{'Singing': 1,\n",
       " 'and': 1,\n",
       " 'are': 1,\n",
       " 'be': 1,\n",
       " 'both': 1,\n",
       " 'but': 1,\n",
       " 'can': 1,\n",
       " 'different': 1,\n",
       " 'entirely': 1,\n",
       " 'good': 1,\n",
       " 'in': 2,\n",
       " 'playing': 1,\n",
       " 'rain': 2,\n",
       " 'situations': 1,\n",
       " 'the': 2,\n",
       " 'two': 1}"
      ]
     },
     "execution_count": 26,
     "metadata": {},
     "output_type": "execute_result"
    }
   ],
   "source": [
    "# count number of WORDS and create a dictionary\n",
    "sent = \"Singing in the rain and playing in the rain are two entirely different situations but both can be good\"\n",
    "sent = sent.split()\n",
    "\n",
    "wrd_d = {}\n",
    "\n",
    "for word in sent:\n",
    "    if word not in wrd_d:\n",
    "        wrd_d[word] = 0\n",
    "    wrd_d[word] += 1\n",
    "wrd_d"
   ]
  },
  {
   "cell_type": "code",
   "execution_count": 27,
   "metadata": {},
   "outputs": [
    {
     "name": "stdout",
     "output_type": "stream",
     "text": [
      "{'s': 8, 'a': 3, 'l': 6, 'y': 2, ' ': 7, 'e': 6, 'h': 3, 'b': 1, 't': 1, 'o': 1, 'r': 1}\n"
     ]
    },
    {
     "data": {
      "text/plain": [
       "'s'"
      ]
     },
     "execution_count": 27,
     "metadata": {},
     "output_type": "execute_result"
    }
   ],
   "source": [
    "# count number of chars and compute best char\n",
    "sally = \"sally sells sea shells by the sea shore\"\n",
    "\n",
    "freq_lett = {}\n",
    "\n",
    "for char in sally:\n",
    "    if char not in freq_lett:\n",
    "        freq_lett[char] = 0\n",
    "    freq_lett[char] += 1\n",
    "print(freq_lett)\n",
    "\n",
    "keys = list(freq_lett.keys())\n",
    "best_char = keys[0]\n",
    "\n",
    "for key in keys:\n",
    "    if freq_lett[key] > freq_lett[best_char]:\n",
    "        best_char = key\n",
    "best_char"
   ]
  },
  {
   "cell_type": "code",
   "execution_count": 28,
   "metadata": {},
   "outputs": [
    {
     "name": "stdout",
     "output_type": "stream",
     "text": [
      "{'s': 8, 'a': 5, 'l': 6, 'y': 3, ' ': 11, 'e': 7, 'h': 4, 'b': 2, 't': 2, 'o': 2, 'r': 2, 'n': 1, 'd': 2}\n"
     ]
    },
    {
     "data": {
      "text/plain": [
       "'n'"
      ]
     },
     "execution_count": 28,
     "metadata": {},
     "output_type": "execute_result"
    }
   ],
   "source": [
    "# count number of chars and compute worst char\n",
    "sally = \"sally sells sea shells by the sea shore and by the road\"\n",
    "\n",
    "less_fre = {}\n",
    "for char in sally:\n",
    "    if char not in less_fre:\n",
    "        less_fre[char] = 0\n",
    "    less_fre[char] += 1\n",
    "print(less_fre)\n",
    "\n",
    "keys = list(less_fre.keys())\n",
    "worst_char = keys[0]\n",
    "\n",
    "for key in keys:\n",
    "    if less_fre[key] < less_fre[worst_char]:\n",
    "        worst_char = key\n",
    "worst_char"
   ]
  },
  {
   "cell_type": "code",
   "execution_count": 29,
   "metadata": {},
   "outputs": [
    {
     "name": "stdout",
     "output_type": "stream",
     "text": [
      "{'t': 19, 'h': 11, 'e': 29, 'r': 12, ' ': 53, 'i': 14, 's': 15, 'a': 17, 'd': 7, 'n': 15, 'f': 9, 'o': 17, 'm': 4, ',': 4, 'w': 6, 'c': 3, 'k': 2, 'l': 11, 'u': 8, '.': 4, 'v': 3, 'y': 1, 'g': 1, 'b': 1}\n"
     ]
    },
    {
     "data": {
      "text/plain": [
       "' '"
      ]
     },
     "execution_count": 29,
     "metadata": {},
     "output_type": "execute_result"
    }
   ],
   "source": [
    "# count number of chars in lower case and compute best char\n",
    "string1 = \"There is a tide in the affairs of men, Which taken at the flood, leads on to fortune. Omitted, all the voyage of their life is bound in shallows and in miseries. On such a full sea are we now afloat. And we must take the current when it serves, or lose our ventures.\"\n",
    "string1 = string1.lower()\n",
    "\n",
    "letter_counts = {}\n",
    "\n",
    "for char in string1:\n",
    "    if char not in letter_counts:\n",
    "        letter_counts[char] = 0\n",
    "    letter_counts[char] += 1\n",
    "print(letter_counts)\n",
    "\n",
    "keys = list(letter_counts.keys())\n",
    "best_char = keys[0]\n",
    "\n",
    "for key in keys:\n",
    "    if letter_counts[key] > letter_counts[best_char]:\n",
    "        best_char = key\n",
    "best_char"
   ]
  },
  {
   "cell_type": "code",
   "execution_count": 30,
   "metadata": {},
   "outputs": [
    {
     "name": "stdout",
     "output_type": "stream",
     "text": [
      "{'s': 5, 'u': 7, 'm': 3, 'e': 12, 'r': 3, ' ': 20, 'i': 3, 'a': 6, 'g': 3, 't': 9, 'o': 8, 'd': 1, '.': 2, 'y': 1, 'h': 6, 'v': 1, 'b': 2, 'c': 2, 'f': 3, 'l': 1, 'n': 1}\n"
     ]
    },
    {
     "data": {
      "text/plain": [
       "' '"
      ]
     },
     "execution_count": 30,
     "metadata": {},
     "output_type": "execute_result"
    }
   ],
   "source": [
    "# count number of characters - k-v dictionary in lower case\n",
    "p = \"Summer is a great time to go outside. You have to be careful of the sun though because of the heat.\"\n",
    "p = p.lower()\n",
    "\n",
    "low_d = {}\n",
    "\n",
    "for char in p:\n",
    "    if char not in low_d:\n",
    "        low_d[char] = 0\n",
    "    low_d[char] += 1\n",
    "\n",
    "print(low_d)\n",
    "\n",
    "keys = list(low_d.keys())\n",
    "max_val = keys[0]\n",
    "\n",
    "for key in keys:\n",
    "    if low_d[key] > low_d[max_val]:\n",
    "        max_val = key\n",
    "max_val"
   ]
  },
  {
   "cell_type": "markdown",
   "metadata": {},
   "source": [
    "# Sorting Practice"
   ]
  },
  {
   "cell_type": "code",
   "execution_count": 31,
   "metadata": {},
   "outputs": [
    {
     "name": "stdout",
     "output_type": "stream",
     "text": [
      "{'E': 2, 'F': 1, 'B': 2, 'A': 2, 'D': 4, 'I': 2, 'C': 1}\n",
      "E appears 2 times \n",
      "F appears 1 times \n",
      "B appears 2 times \n",
      "A appears 2 times \n",
      "D appears 4 times \n",
      "I appears 2 times \n",
      "C appears 1 times \n"
     ]
    }
   ],
   "source": [
    "# more practice with this one\n",
    "# create a dictionary, and sort the newly created dictionary\n",
    "\n",
    "L = ['E', 'F', 'B', 'A', 'D', 'I', 'I', 'C', 'B', 'A', 'D', 'D', 'E', 'D']\n",
    "\n",
    "new_dict = {}\n",
    "\n",
    "for letter in L:\n",
    "    if letter not in new_dict:\n",
    "        new_dict[letter] = 0\n",
    "    new_dict[letter] += 1\n",
    "print(new_dict)\n",
    "\n",
    "keys = list(new_dict.keys())\n",
    "\n",
    "for letter in keys:\n",
    "    #print(letter, new_dict[letter])\n",
    "    print('{} appears {} times '.format(letter, new_dict[letter]))"
   ]
  },
  {
   "cell_type": "code",
   "execution_count": 32,
   "metadata": {},
   "outputs": [
    {
     "name": "stdout",
     "output_type": "stream",
     "text": [
      "A appears 2 times\n",
      "B appears 2 times\n",
      "C appears 1 times\n",
      "D appears 4 times\n",
      "E appears 2 times\n",
      "F appears 1 times\n",
      "I appears 2 times\n"
     ]
    }
   ],
   "source": [
    "# Alternatively we can sort the list and the newly created dict by alphabetical order\n",
    "\n",
    "L = ['E', 'F', 'B', 'A', 'D', 'I', 'I', 'C', 'B', 'A', 'D', 'D', 'E', 'D']\n",
    "\n",
    "new_d = {}\n",
    "\n",
    "for letter in L:\n",
    "    if letter not in new_d:\n",
    "        new_d[letter] = 0\n",
    "    new_d[letter] += 1\n",
    "\n",
    "# print(new_d)\n",
    "    \n",
    "sort_dict = sorted(new_d.keys())\n",
    "\n",
    "for key in sort_dict:\n",
    "    print('{} appears {} times'.format(key, new_d[key]))"
   ]
  },
  {
   "cell_type": "code",
   "execution_count": 33,
   "metadata": {},
   "outputs": [
    {
     "name": "stdout",
     "output_type": "stream",
     "text": [
      "D appears 4 times\n",
      "E appears 2 times\n",
      "B appears 2 times\n",
      "A appears 2 times\n",
      "I appears 2 times\n",
      "F appears 1 times\n",
      "C appears 1 times\n"
     ]
    }
   ],
   "source": [
    "# We can also sort the dictionary based on its key values, use a named function, NOT labmda\n",
    "\n",
    "L = ['E', 'F', 'B', 'A', 'D', 'I', 'I', 'C', 'B', 'A', 'D', 'D', 'E', 'D']\n",
    "\n",
    "d = {}\n",
    "\n",
    "for letter in L:\n",
    "    if letter not in d:\n",
    "        d[letter] = 0\n",
    "    d[letter] += 1\n",
    "    \n",
    "\"\"\" alternativeley we can use the below for loop to build the dictionary\n",
    "for x in L:\n",
    "    if x in d:\n",
    "        d[x] += 1\n",
    "    else:\n",
    "        d[x] = 1\n",
    "        \n",
    "print(d)\n",
    "\n",
    "\"\"\" \n",
    "\n",
    "def sort_key(key):\n",
    "    return d[key]\n",
    "    \n",
    "sorted_keys = sorted(d.keys(), reverse = True, key = sort_key)\n",
    "\n",
    "for key in sorted_keys:\n",
    "    print('{} appears {} times'.format(key, d[key]))"
   ]
  },
  {
   "cell_type": "code",
   "execution_count": 34,
   "metadata": {},
   "outputs": [
    {
     "name": "stdout",
     "output_type": "stream",
     "text": [
      "D appears 4 times\n",
      "E appears 2 times\n",
      "B appears 2 times\n",
      "A appears 2 times\n",
      "I appears 2 times\n",
      "F appears 1 times\n",
      "C appears 1 times\n"
     ]
    }
   ],
   "source": [
    "## shortcut for experienced programmers\n",
    "\n",
    "L = ['E', 'F', 'B', 'A', 'D', 'I', 'I', 'C', 'B', 'A', 'D', 'D', 'E', 'D']\n",
    "\n",
    "dicc = {}\n",
    "\n",
    "for lett in L:\n",
    "    if lett in dicc:\n",
    "        dicc[lett] += 1\n",
    "    else:\n",
    "        dicc[lett] = 1\n",
    "        \n",
    "sort_dic = sorted(dicc, reverse = True, key = lambda key: dicc[key])\n",
    "\n",
    "for key in sort_dic:\n",
    "    print('{} appears {} times'.format(key, dicc[key]))"
   ]
  },
  {
   "cell_type": "code",
   "execution_count": 35,
   "metadata": {},
   "outputs": [
    {
     "data": {
      "text/plain": [
       "['dance', 'zebra', 'hi', 'how are you', 'apple', 'bye']"
      ]
     },
     "execution_count": 35,
     "metadata": {},
     "output_type": "execute_result"
    }
   ],
   "source": [
    "# You will be sorting the following list by each element’s second letter, a to z. Create a function to use \n",
    "# when sorting, called second_let. It will take a string as input and return the second letter of that string. \n",
    "# Then sort the list, create a variable called sorted_by_second_let and assign the sorted list to it. \n",
    "# Do not use lambda.\n",
    "\n",
    "ex_lst = ['hi', 'how are you', 'bye', 'apple', 'zebra', 'dance']\n",
    "\n",
    "def seond_let(x):\n",
    "    return x[1]\n",
    "\n",
    "sorted_by_second_let = sorted(ex_lst, key = seond_let)\n",
    "sorted_by_second_let"
   ]
  },
  {
   "cell_type": "code",
   "execution_count": 36,
   "metadata": {},
   "outputs": [
    {
     "data": {
      "text/plain": [
       "['19', '14378', '8907', '16', '1005', '44', '33', '32', '871', '1450']"
      ]
     },
     "execution_count": 36,
     "metadata": {},
     "output_type": "execute_result"
    }
   ],
   "source": [
    "# Below, we have provided a list of strings called nums. \n",
    "# Write a function called last_char that takes a string as input, and returns only its last character. \n",
    "# Use this function to sort the list nums by the last digit of each number, from highest to lowest, and \n",
    "# save this as a new list called nums_sorted.\n",
    "\n",
    "nums = ['1450', '33', '871', '19', '14378', '32', '1005', '44', '8907', '16']\n",
    "\n",
    "def last_char(x):\n",
    "    return x[-1]\n",
    "\n",
    "nums_sorted = sorted(nums , reverse = True,key = last_char) # 9, 8, 7, 6, 5, 4, 3,.....\n",
    "nums_sorted"
   ]
  },
  {
   "cell_type": "code",
   "execution_count": 38,
   "metadata": {},
   "outputs": [
    {
     "data": {
      "text/plain": [
       "['19', '14378', '8907', '16', '1005', '44', '33', '32', '871', '1450']"
      ]
     },
     "execution_count": 38,
     "metadata": {},
     "output_type": "execute_result"
    }
   ],
   "source": [
    "# Once again, sort the list nums based on the last digit of each number from highest to lowest. \n",
    "# However, now you should do so by writing a lambda function. Save the new list as nums_sorted_lambda.\n",
    "\n",
    "nums = ['1450', '33', '871', '19', '14378', '32', '1005', '44', '8907', '16']\n",
    "\n",
    "nums_sorted_lambda = sorted(nums, reverse = True, key = lambda x : x[-1])\n",
    "nums_sorted_lambda"
   ]
  },
  {
   "cell_type": "markdown",
   "metadata": {},
   "source": [
    "#### The way of the programmer for sorting"
   ]
  },
  {
   "cell_type": "code",
   "execution_count": 39,
   "metadata": {},
   "outputs": [
    {
     "data": {
      "text/plain": [
       "['Washington', 'Minnesota', 'Michigan']"
      ]
     },
     "execution_count": 39,
     "metadata": {},
     "output_type": "execute_result"
    }
   ],
   "source": [
    "# sort the states in order by the length of the first city\n",
    "\n",
    "states = {\"Minnesota\": [\"St. Paul\", \"Minneapolis\", \"Saint Cloud\", \"Stillwater\"],\n",
    "          \"Michigan\": [\"Ann Arbor\", \"Traverse City\", \"Lansing\", \"Kalamazoo\"],\n",
    "          \"Washington\": [\"Seattle\", \"Tacoma\", \"Olympia\", \"Vancouver\"]}\n",
    "\n",
    "\"\"\"alternatively with a named function\n",
    "\n",
    "for state in states:\n",
    "    cities = list(state[states])\n",
    "    for city in cities:\n",
    "        len_city = len(states[state][0])\n",
    "    print(len_city)\n",
    "\n",
    "\n",
    "def sort(state):\n",
    "    len_st = len(states[state][0])  HOWEVER, we just use the last portion of the for loop and as a parameter the key\n",
    "    return len_st                   which is \"state\"\n",
    "\n",
    "\n",
    "def sort_len(state):\n",
    "    cities = list(states[state])\n",
    "    return len(cities[0])\n",
    "    \n",
    "\"\"\"\n",
    "\n",
    "sort_cities = sorted(states, key = lambda state: (len(states[state][0])))\n",
    "sort_cities"
   ]
  },
  {
   "cell_type": "code",
   "execution_count": 40,
   "metadata": {},
   "outputs": [
    {
     "data": {
      "text/plain": [
       "['Michigan', 'Washington', 'Minnesota']"
      ]
     },
     "execution_count": 40,
     "metadata": {},
     "output_type": "execute_result"
    }
   ],
   "source": [
    "# sort by the number of cities that start with letter 'S'\n",
    "\n",
    "states = {\"Minnesota\": [\"St. Paul\", \"Minneapolis\", \"Saint Cloud\", \"Stillwater\"],\n",
    "          \"Michigan\": [\"Ann Arbor\", \"Traverse City\", \"Lansing\", \"Kalamazoo\"],\n",
    "          \"Washington\": [\"Seattle\", \"Tacoma\", \"Olympia\", \"Vancouver\"]}\n",
    "\n",
    "\"\"\" I use a for loop to build the named function\n",
    "ct = 0\n",
    "for state in states:\n",
    "    cities = list(states[state])\n",
    "    for city in cities:\n",
    "        if city[0] == 'S':\n",
    "            print(city)\n",
    "            ct += 1\n",
    "print(ct)\n",
    "\n",
    "ADDITIONALLY I can fully use the following function:\n",
    "\n",
    "def sort_scity(state):\n",
    "    cities = list(states[state]):\n",
    "    ct = 0\n",
    "    for city in cities:\n",
    "        if city[0] == 'S':\n",
    "            ct += 1\n",
    "    return ct\n",
    "\n",
    "\"\"\"  \n",
    "  \n",
    "def cities(cities): \n",
    "    num_cities = 0\n",
    "    for city in cities:\n",
    "        if city[0] == 'S':\n",
    "            num_cities += 1\n",
    "    return num_cities\n",
    "    \n",
    "sort_city = sorted(states, key = lambda state: cities(states[state])) # from lowest to highest\n",
    "sort_city"
   ]
  },
  {
   "cell_type": "markdown",
   "metadata": {},
   "source": [
    "## Nested Functions"
   ]
  },
  {
   "cell_type": "code",
   "execution_count": 41,
   "metadata": {},
   "outputs": [
    {
     "name": "stdout",
     "output_type": "stream",
     "text": [
      "90\n",
      "3\n",
      "[{'a': 1, 'b': 3}, {'a': 5, 'c': 90, 5: 50}, {'b': 3, 'c': 'yes'}, [{'Josita': 1938, 'Nico': 1937, 'Josesito': 1975}]]\n",
      "[{'a': 1, 'b': 3}, {'a': 5, 'c': 90, 5: 50}, {'b': 3, 'c': 'no'}, [{'Josita': 1938, 'Nico': 1937, 'Josesito': 1975}]]\n"
     ]
    }
   ],
   "source": [
    "# A list that contains several dictionaries\n",
    "nested2 = [{'a': 1, 'b': 3}, {'a': 5, 'c': 90, 5: 50}, {'b': 3, 'c': \"yes\"}]\n",
    "\n",
    "#write code to print the value associated with key 'c' in the second dictionary (90)\n",
    "print(nested2[1]['c'])\n",
    "#write code to print the value associated with key 'b' in the third dictionary\n",
    "print(nested2[2]['b'])\n",
    "#add a fourth dictionary at the end of the list; print something to check your work.\n",
    "nested2.append([{'Josita':1938, 'Nico':1937, 'Josesito':1975}])\n",
    "print(nested2)\n",
    "#change the value associated with 'c' in the third dictionary from \"yes\" to \"no\"; print something to check your work\n",
    "nested2[2]['c'] = 'no'\n",
    "print(nested2)"
   ]
  },
  {
   "cell_type": "code",
   "execution_count": 42,
   "metadata": {},
   "outputs": [
    {
     "name": "stdout",
     "output_type": "stream",
     "text": [
      "{'color': {'eye': 'blue', 'hair': 'brown'}, 'height': \"5'8\"}\n"
     ]
    }
   ],
   "source": [
    "# Extract the value associated with the key color and assign it to the variable color. Do not hard code this.\n",
    "\n",
    "info = {'personal_data':\n",
    "         {'name': 'Lauren',\n",
    "          'age': 20,\n",
    "          'major': 'Information Science',\n",
    "          'physical_features':\n",
    "             {'color': {'eye': 'blue',\n",
    "                        'hair': 'brown'},\n",
    "              'height': \"5'8\"}\n",
    "         },\n",
    "       'other':\n",
    "         {'favorite_colors': ['purple', 'green', 'blue'],\n",
    "          'interested_in': ['social media', 'intellectual property', 'copyright', 'music', 'books']\n",
    "         }\n",
    "      }\n",
    "\n",
    "\n",
    "# personal_data =info['personal_data']['age']\n",
    "# print(personal_data)\n",
    "\n",
    "color = info['personal_data']['physical_features'] #['height']\n",
    "print(color)\n",
    "\n",
    "# other_data = info['other']['interested_in'][4]\n",
    "# print(other_data)"
   ]
  },
  {
   "cell_type": "markdown",
   "metadata": {},
   "source": [
    "#### NESTED ITERATIONS"
   ]
  },
  {
   "cell_type": "code",
   "execution_count": 43,
   "metadata": {},
   "outputs": [
    {
     "name": "stdout",
     "output_type": "stream",
     "text": [
      "a\n",
      "b\n",
      "c\n",
      "d\n",
      "e\n",
      "f\n",
      "g\n",
      "h\n"
     ]
    }
   ],
   "source": [
    "# Iterate for each of the elements in the list below:\n",
    "\n",
    "nested1 = [['a', 'b', 'c'],['d', 'e'],['f', 'g', 'h']]\n",
    "for x in nested1:\n",
    "#     print(x)\n",
    "#     print(\"level1: \")\n",
    "    for y in x:\n",
    "        print(y)\n",
    "#         print(\"     level2: \" + y)"
   ]
  },
  {
   "cell_type": "code",
   "execution_count": 44,
   "metadata": {},
   "outputs": [
    {
     "name": "stdout",
     "output_type": "stream",
     "text": [
      "['Turner', 'Damon', 'Wiig', 'Phelps', 'Obama']\n"
     ]
    }
   ],
   "source": [
    "## Below, we have provided a list of lists that contain information about people. \n",
    "## Write code to create a new list that contains every person’s last name, and save that list as last_names.\n",
    "\n",
    "info = [['Tina', 'Turner', 1939, 'singer'], ['Matt', 'Damon', 1970, 'actor'], ['Kristen', 'Wiig', 1973, 'comedian'], ['Michael', 'Phelps', 1985, 'swimmer'], ['Barack', 'Obama', 1961, 'president']]\n",
    "\n",
    "last_names = []\n",
    "\n",
    "for person in info:\n",
    "    last_names.append(person[1])\n",
    "print(last_names)"
   ]
  },
  {
   "cell_type": "code",
   "execution_count": 45,
   "metadata": {},
   "outputs": [
    {
     "data": {
      "text/plain": [
       "['bananas',\n",
       " 'blueberries',\n",
       " 'cucumbers',\n",
       " 'green beans',\n",
       " 'root beer',\n",
       " 'cranberry juice']"
      ]
     },
     "execution_count": 45,
     "metadata": {},
     "output_type": "execute_result"
    }
   ],
   "source": [
    "# Below, we have provided a list of lists named L. \n",
    "# Use nested iteration to save every string containing “b” into a new list named b_strings.\n",
    "\n",
    "L = [['apples', 'bananas', 'oranges', 'blueberries', 'lemons'], ['carrots', 'peas', 'cucumbers', 'green beans'], ['root beer', 'smoothies', 'cranberry juice']]\n",
    "\n",
    "b_strings = []\n",
    "\n",
    "for fruit_list in L:\n",
    "    for fruit in fruit_list:\n",
    "        if 'b' in fruit:\n",
    "            b_strings.append(fruit)\n",
    "b_strings"
   ]
  },
  {
   "cell_type": "code",
   "execution_count": 46,
   "metadata": {},
   "outputs": [
    {
     "data": {
      "text/plain": [
       "29"
      ]
     },
     "execution_count": 46,
     "metadata": {},
     "output_type": "execute_result"
    }
   ],
   "source": [
    "# get number of gold medals for the UK in the London olyimpics\n",
    "nested_d = {'Beijing':{'China':51, 'USA':36, 'Russia':22, 'Great Britain':19}, 'London':{'USA':46, 'China':38, 'Great Britain':29, 'Russia':22}, 'Rio':{'USA':35, 'Great Britain':22, 'China':20, 'Germany':13}}\n",
    "\n",
    "london_gold = nested_d['London']['Great Britain']\n",
    "london_gold"
   ]
  },
  {
   "cell_type": "code",
   "execution_count": 47,
   "metadata": {},
   "outputs": [
    {
     "name": "stdout",
     "output_type": "stream",
     "text": [
      "backstroke\n",
      "platform\n",
      "['vault', 'floor', 'uneven bars', 'balance beam']\n",
      "rings\n"
     ]
    }
   ],
   "source": [
    "sports = {'swimming': ['butterfly', 'breaststroke', 'backstroke', 'freestyle'], 'diving': ['springboard', 'platform', 'synchronized'], 'track': ['sprint', 'distance', 'jumps', 'throws'], 'gymnastics': {'women':['vault', 'floor', 'uneven bars', 'balance beam'], 'men': ['vault', 'parallel bars', 'floor', 'rings']}}\n",
    "\n",
    "# Assign the string 'backstroke' to the name v1\n",
    "\n",
    "v1 = sports['swimming'][2]\n",
    "print(v1)\n",
    "\n",
    "# Assign the string 'platform' to the name v2\n",
    "\n",
    "v2 = sports['diving'][1]\n",
    "print(v2)\n",
    "\n",
    "# Assign the list ['vault', 'floor', 'uneven bars', 'balance beam'] to the name v3\n",
    "\n",
    "v3 = sports['gymnastics']['women']\n",
    "print(v3)\n",
    "\n",
    "# Assign the string 'rings' to the name v4\n",
    "\n",
    "v4 = sports['gymnastics']['men'][3]\n",
    "print(v4)"
   ]
  },
  {
   "cell_type": "code",
   "execution_count": 48,
   "metadata": {},
   "outputs": [
    {
     "data": {
      "text/plain": [
       "[36, 46, 35]"
      ]
     },
     "execution_count": 48,
     "metadata": {},
     "output_type": "execute_result"
    }
   ],
   "source": [
    "# get the number of medals for the US for the three Olympics, and build a list for US medals only\n",
    "\n",
    "nested_d = {'Beijing':{'China':51, 'USA':36, 'Russia':22, 'Great Britain':19}, 'London':{'USA':46, 'China':38, 'Great Britain':29, 'Russia':22}, 'Rio':{'USA':35, 'Great Britain':22, 'China':20, 'Germany':13}}\n",
    "\n",
    "US_count = []\n",
    "\n",
    "keys = nested_d.keys()\n",
    "\n",
    "for key in keys:\n",
    "    if key == 'Beijing':\n",
    "        US_count.append(nested_d['Beijing']['USA'])\n",
    "    elif key == 'London':\n",
    "        US_count.append(nested_d['London']['USA'])\n",
    "    elif key == 'Rio':\n",
    "        US_count.append(nested_d['Rio']['USA'])\n",
    "US_count"
   ]
  },
  {
   "cell_type": "code",
   "execution_count": 49,
   "metadata": {},
   "outputs": [
    {
     "data": {
      "text/plain": [
       "['blue', 'blood orange', 'lavender', 'mac n cheese']"
      ]
     },
     "execution_count": 49,
     "metadata": {},
     "output_type": "execute_result"
    }
   ],
   "source": [
    "# iterate through the contents of 1_of_1 and assign the third element of sublist to a new list called third.\n",
    "\n",
    "l_of_l = [['purple', 'mauve', 'blue'], ['red', 'maroon', 'blood orange', 'crimson'], ['sea green', 'cornflower', 'lavender', 'indigo'], ['yellow', 'amarillo', 'mac n cheese', 'golden rod']]\n",
    "\n",
    "third = []\n",
    "\n",
    "for element in l_of_l:\n",
    "    third.append(element[2])\n",
    "third"
   ]
  },
  {
   "cell_type": "code",
   "execution_count": 50,
   "metadata": {},
   "outputs": [
    {
     "name": "stdout",
     "output_type": "stream",
     "text": [
      "['Lochte', 'Bolt', 'Eaton', 'Dalton']\n",
      "['Phelps', 'Schooling', 'Ledecky', 'Franklin', 'Felix', 'Gardner', 'Biles', 'Douglas', 'Hamm', 'Raisman', 'Mikulak']\n"
     ]
    }
   ],
   "source": [
    "# Create a list, t, that saves only the athlete’s name if it contains the letter “t”. \n",
    "# If it does not contain the letter “t”, save the athlete name into list other.\n",
    "\n",
    "athletes = [['Phelps', 'Lochte', 'Schooling', 'Ledecky', 'Franklin'], ['Felix', 'Bolt', 'Gardner', 'Eaton'], ['Biles', 'Douglas', 'Hamm', 'Raisman', 'Mikulak', 'Dalton']]\n",
    "\n",
    "t = []\n",
    "other = []\n",
    "\n",
    "for athlete in athletes:\n",
    "    for lev1 in athlete:\n",
    "        if 't' in lev1:\n",
    "            t.append(lev1)\n",
    "        else:\n",
    "            other.append(lev1)\n",
    "    \n",
    "    \n",
    "print(t)\n",
    "print(other)"
   ]
  },
  {
   "cell_type": "markdown",
   "metadata": {},
   "source": [
    "### MAP, FILTER & LIST COMPREHENSIONS"
   ]
  },
  {
   "cell_type": "code",
   "execution_count": 51,
   "metadata": {},
   "outputs": [
    {
     "name": "stdout",
     "output_type": "stream",
     "text": [
      "[['hi', 'bye', 'hi', 'bye'], 'hellohello', 'goodbyegoodbye', [9, 2, 9, 2], 8]\n"
     ]
    }
   ],
   "source": [
    "# Using map, create a list assigned to the variable greeting_doubled that doubles each element in the list lst.\n",
    "lst = [[\"hi\", \"bye\"], \"hello\", \"goodbye\", [9, 2], 4]\n",
    "\n",
    "greeting_doubled = map(lambda value: 2 * value, lst)\n",
    "print(list(greeting_doubled))"
   ]
  },
  {
   "cell_type": "code",
   "execution_count": 52,
   "metadata": {},
   "outputs": [
    {
     "name": "stdout",
     "output_type": "stream",
     "text": [
      "['USA', 'ESP', 'CHN', 'JPN', 'MEX', 'CAN', 'RUS', 'RSA', 'JAM']\n"
     ]
    }
   ],
   "source": [
    "# Below, we have provided a list of strings called abbrevs. \n",
    "# Use map to produce a new list called abbrevs_upper that contains all the same strings in upper case.\n",
    "\n",
    "abbrevs = [\"usa\", \"esp\", \"chn\", \"jpn\", \"mex\", \"can\", \"rus\", \"rsa\", \"jam\"]\n",
    "\n",
    "abbrevs_upper = map(lambda abr: abr.upper(), abbrevs)\n",
    "print(list(abbrevs_upper))"
   ]
  },
  {
   "cell_type": "code",
   "execution_count": 53,
   "metadata": {},
   "outputs": [
    {
     "name": "stdout",
     "output_type": "stream",
     "text": [
      "['watermelon', 'kiwi', 'strawberries']\n"
     ]
    }
   ],
   "source": [
    "# Write code to assign to the variable filter_testing all the elements in lst_check that have a w in them using filter.\n",
    "\n",
    "lst_check = ['plums', 'watermelon', 'kiwi', 'strawberries', 'blueberries', 'peaches', 'apples', 'mangos', 'papaya']\n",
    "\n",
    "filter_testing = filter(lambda word: 'w' in word, lst_check)\n",
    "\n",
    "print(list(filter_testing))"
   ]
  },
  {
   "cell_type": "code",
   "execution_count": 54,
   "metadata": {},
   "outputs": [
    {
     "name": "stdout",
     "output_type": "stream",
     "text": [
      "['halloween', 'wagon', 'moon']\n"
     ]
    }
   ],
   "source": [
    "# Using filter, filter lst so that it only contains words containing the letter “o”. \n",
    "#Assign to variable lst2. Do not hardcode this.\n",
    "\n",
    "lst = [\"witch\", \"halloween\", \"pumpkin\", \"cat\", \"candy\", \"wagon\", \"moon\"]\n",
    "\n",
    "lst2 = filter(lambda word: 'o' in word, lst)\n",
    "print(list(lst2))"
   ]
  },
  {
   "cell_type": "code",
   "execution_count": 55,
   "metadata": {},
   "outputs": [
    {
     "data": {
      "text/plain": [
       "[4, 10, 18]"
      ]
     },
     "execution_count": 55,
     "metadata": {},
     "output_type": "execute_result"
    }
   ],
   "source": [
    "# LIST COMPRE provide a new list doubling each number in the list with list comprehension\n",
    "\n",
    "things = [2, 5, 9]\n",
    "\n",
    "mylist = [value * 2 for value in things]\n",
    "mylist"
   ]
  },
  {
   "cell_type": "code",
   "execution_count": 56,
   "metadata": {},
   "outputs": [
    {
     "data": {
      "text/plain": [
       "[4, 6, 0]"
      ]
     },
     "execution_count": 56,
     "metadata": {},
     "output_type": "execute_result"
    }
   ],
   "source": [
    "# Create function with a list comp keeping even numbers only \n",
    "\n",
    "# keep_evens([3, 4, 6, 7, 0, 1])\n",
    "\n",
    "def keep_evens(nums):\n",
    "    new_list = [num for num in nums if num % 2 == 0]\n",
    "    return new_list\n",
    "\n",
    "keep_evens([3, 4, 6, 7, 0, 1])"
   ]
  },
  {
   "cell_type": "code",
   "execution_count": 57,
   "metadata": {},
   "outputs": [
    {
     "name": "stdout",
     "output_type": "stream",
     "text": [
      "[8, 12, 0]\n"
     ]
    }
   ],
   "source": [
    "## Class sample\n",
    "# we can also combine filter & map by chaining them together\n",
    "# first double the numbers & then filter to keep the even only\n",
    "\n",
    "things = [3, 4, 6, 7, 0, 1]\n",
    "\n",
    "combine = map(lambda x: x * 2, filter(lambda y: y % 2 == 0, things))\n",
    "print(list(combine))"
   ]
  },
  {
   "cell_type": "code",
   "execution_count": 58,
   "metadata": {},
   "outputs": [
    {
     "name": "stdout",
     "output_type": "stream",
     "text": [
      "[12, 34, 21, 42]\n",
      "[12, 34, 21, 42]\n"
     ]
    }
   ],
   "source": [
    "# for the loop below, do the same but with list comprehension\n",
    "\n",
    "L = [12, 34, 21, 4, 6, 9, 42]\n",
    "lst = []\n",
    "for x in L:\n",
    "    if x > 10:\n",
    "        lst.append(x)\n",
    "print(lst)\n",
    "\n",
    "lst2 = [num for num in L if num > 10]\n",
    "print(lst2)"
   ]
  },
  {
   "cell_type": "code",
   "execution_count": 59,
   "metadata": {},
   "outputs": [
    {
     "data": {
      "text/plain": [
       "['Lauren', 'Ayo', 'Kathryn', 'Nick', 'Gladys', 'Adam']"
      ]
     },
     "execution_count": 59,
     "metadata": {},
     "output_type": "execute_result"
    }
   ],
   "source": [
    "# Write code to assign to the variable compri all the values of the key name in any of the sub-dictionaries in \n",
    "# the dictionary tester. Do this using a list comprehension.\n",
    "\n",
    "tester = {'info': [{\"name\": \"Lauren\", 'class standing': 'Junior', 'major': \"Information Science\"},{'name': 'Ayo', 'class standing': \"Bachelor's\", 'major': 'Information Science'}, {'name': 'Kathryn', 'class standing': 'Senior', 'major': 'Sociology'}, {'name': 'Nick', 'class standing': 'Junior', 'major': 'Computer Science'}, {'name': 'Gladys', 'class standing': 'Sophomore', 'major': 'History'}, {'name': 'Adam', 'major': 'Violin Performance', 'class standing': 'Senior'}]}\n",
    "\n",
    "# for test in tester['info']:\n",
    "#     print(test['name'])\n",
    "    \n",
    "compri = [test['name'] for test in tester['info']]\n",
    "compri"
   ]
  },
  {
   "cell_type": "markdown",
   "metadata": {},
   "source": [
    "#### ZIP"
   ]
  },
  {
   "cell_type": "code",
   "execution_count": 60,
   "metadata": {},
   "outputs": [
    {
     "data": {
      "text/plain": [
       "[18, 57, 103]"
      ]
     },
     "execution_count": 60,
     "metadata": {},
     "output_type": "execute_result"
    }
   ],
   "source": [
    "# Below we have provided two lists of numbers, L1 and L2. Using zip and list comprehension, create a new list, L3, \n",
    "# that sums the two numbers if the number from L1 is greater than 10 and the number from L2 is less than 5. \n",
    "# This can be accomplished in one line of code.\n",
    "\n",
    "L1 = [1, 5, 2, 16, 32, 3, 54, 8, 100]\n",
    "L2 = [1, 3, 10, 2, 42, 2, 3, 4, 3]\n",
    "\n",
    "L3 = [x1 + x2 for (x1, x2) in list(zip(L1,L2)) if (x1 > 10) & (x2 < 5)]\n",
    "L3"
   ]
  },
  {
   "cell_type": "code",
   "execution_count": 61,
   "metadata": {},
   "outputs": [
    {
     "data": {
      "text/plain": [
       "['Fruit: plums',\n",
       " 'Fruit: watermelon',\n",
       " 'Fruit: kiwi',\n",
       " 'Fruit: strawberries',\n",
       " 'Fruit: blueberries',\n",
       " 'Fruit: peaches',\n",
       " 'Fruit: apples',\n",
       " 'Fruit: mangos',\n",
       " 'Fruit: papaya']"
      ]
     },
     "execution_count": 61,
     "metadata": {},
     "output_type": "execute_result"
    }
   ],
   "source": [
    "# Write code to assign to the variable map_testing all the elements in lst_check while adding \n",
    "# the string “Fruit: ” to the beginning of each element using mapping.\n",
    "\n",
    "lst_check = ['plums', 'watermelon', 'kiwi', 'strawberries', 'blueberries', 'peaches', 'apples', 'mangos', 'papaya']\n",
    "\n",
    "map_testing = map(lambda x: 'Fruit: ' + x, lst_check)\n",
    "list(map_testing)"
   ]
  },
  {
   "cell_type": "code",
   "execution_count": 62,
   "metadata": {},
   "outputs": [
    {
     "data": {
      "text/plain": [
       "['Brazil', 'Botswana', 'Britain', 'Bangladesh', 'Belarus', 'Belgium']"
      ]
     },
     "execution_count": 62,
     "metadata": {},
     "output_type": "execute_result"
    }
   ],
   "source": [
    "# Below, we have provided a list of strings called countries. Use filter to produce a list called b_countries \n",
    "# that only contains the strings from countries that begin with B.\n",
    "\n",
    "countries = ['Canada', 'Mexico', 'Brazil', 'Chile', 'Denmark', 'Botswana', 'Spain', 'Britain', 'Portugal', 'Russia', 'Thailand', 'Bangladesh', 'Nigeria', 'Argentina', 'Belarus', 'Laos', 'Australia', 'Panama', 'Egypt', 'Morocco', 'Switzerland', 'Belgium']\n",
    "\n",
    "\n",
    "b_countries = filter(lambda country: 'B' in country, countries)\n",
    "list(b_countries)"
   ]
  },
  {
   "cell_type": "code",
   "execution_count": 63,
   "metadata": {},
   "outputs": [
    {
     "data": {
      "text/plain": [
       "['Jon',\n",
       " 'Cersei',\n",
       " 'Arya',\n",
       " 'Robb',\n",
       " 'Jamie',\n",
       " 'Daenerys',\n",
       " 'Sansa',\n",
       " 'Margaery',\n",
       " 'Eddard',\n",
       " 'Tyrion',\n",
       " 'Joffrey',\n",
       " 'Ramsey',\n",
       " 'Peter']"
      ]
     },
     "execution_count": 63,
     "metadata": {},
     "output_type": "execute_result"
    }
   ],
   "source": [
    "# Below, we have provided a list of tuples that contain the names of Game of Thrones characters. \n",
    "# Using list comprehension, create a list of strings called first_names that contains only the first \n",
    "# names of everyone in the original list.\n",
    "\n",
    "people = [('Snow', 'Jon'), ('Lannister', 'Cersei'), ('Stark', 'Arya'), ('Stark', 'Robb'), ('Lannister', 'Jamie'), ('Targaryen', 'Daenerys'), ('Stark', 'Sansa'), ('Tyrell', 'Margaery'), ('Stark', 'Eddard'), ('Lannister', 'Tyrion'), ('Baratheon', 'Joffrey'), ('Bolton', 'Ramsey'), ('Baelish', 'Peter')]\n",
    "\n",
    "first_names = [last[1] for last in people]\n",
    "first_names"
   ]
  },
  {
   "cell_type": "code",
   "execution_count": 64,
   "metadata": {},
   "outputs": [
    {
     "data": {
      "text/plain": [
       "[['hi', 'bye', 'hi', 'bye'], 'hellohello', 'goodbyegoodbye', [9, 2, 9, 2], 8]"
      ]
     },
     "execution_count": 64,
     "metadata": {},
     "output_type": "execute_result"
    }
   ],
   "source": [
    "# Use list comprehension to create a list called lst2 that doubles each element in the list, lst.\n",
    "\n",
    "lst = [[\"hi\", \"bye\"], \"hello\", \"goodbye\", [9, 2], 4]\n",
    "\n",
    "lst2 = [x * 2 for x in lst]\n",
    "lst2"
   ]
  },
  {
   "cell_type": "code",
   "execution_count": 65,
   "metadata": {},
   "outputs": [
    {
     "data": {
      "text/plain": [
       "[('Tommy', 95), ('Carl', 70), ('Bob', 100), ('Sue', 75)]"
      ]
     },
     "execution_count": 65,
     "metadata": {},
     "output_type": "execute_result"
    }
   ],
   "source": [
    "# Below, we have provided a list of tuples that contain students’ names and their final grades in PYTHON 101. \n",
    "# Using list comprehension, create a new list passed that contains the names of students who passed the class \n",
    "# (had a final grade of 70 or greater).\n",
    "\n",
    "students = [('Tommy', 95), ('Linda', 63), ('Carl', 70), ('Bob', 100), ('Raymond', 50), ('Sue', 75)]\n",
    "\n",
    "passed = [name for name in students if (name[1] >= 70)]\n",
    "passed"
   ]
  },
  {
   "cell_type": "code",
   "execution_count": 66,
   "metadata": {},
   "outputs": [
    {
     "data": {
      "text/plain": [
       "[('left', 'right'), ('front', 'back')]"
      ]
     },
     "execution_count": 66,
     "metadata": {},
     "output_type": "execute_result"
    }
   ],
   "source": [
    "# Write code using zip and filter so that these lists (l1 and l2) are combined into one big list \n",
    "# and assigned to the variable opposites if they are both longer than 3 characters each.\n",
    "\n",
    "l1 = ['left', 'up', 'front']\n",
    "l2 = ['right', 'down', 'back']\n",
    "\n",
    "opposites = filter(lambda x: len(x[0]) > 3, list(zip(l1,l2)))\n",
    "list(opposites)"
   ]
  },
  {
   "cell_type": "code",
   "execution_count": 67,
   "metadata": {},
   "outputs": [
    {
     "name": "stdout",
     "output_type": "stream",
     "text": [
      "[('black rhino', 1000), ('orangutan', 500), ('sumatran elephant', 1200), ('blue whale', 2300), ('giant panda', 100), ('green turtle', 1800)]\n",
      "['black rhino', 'orangutan', 'sumatran elephant', 'blue whale', 'giant panda', 'green turtle']\n"
     ]
    }
   ],
   "source": [
    "# Below, we have provided a species list and a population list. \n",
    "# Use zip to combine these lists into one list of tuples called pop_info. \n",
    "# From this list, create a new list called endangered that contains the names of species whose populations \n",
    "# are below 2500.\n",
    "\n",
    "species = ['golden retriever', 'white tailed deer', 'black rhino', 'brown squirrel', 'field mouse', 'orangutan', 'sumatran elephant', 'rainbow trout', 'black bear', 'blue whale', 'water moccasin', 'giant panda', 'green turtle', 'blue jay', 'japanese beetle']\n",
    "\n",
    "population = [10000, 90000, 1000, 2000000, 500000, 500, 1200, 8000, 12000, 2300, 7500, 100, 1800, 9500, 125000]\n",
    "\n",
    "pop_species = list(zip(species, population))\n",
    "\n",
    "endangered = filter(lambda x: int(x[1]) < 2500, pop_species)\n",
    "endangered = list(endangered)\n",
    "print(endangered)\n",
    "\n",
    "# alternatively using list comprehension\n",
    "\n",
    "endangered2 = [x[0] for x in pop_species if x[1] < 2500]\n",
    "print(endangered2)"
   ]
  },
  {
   "cell_type": "code",
   "execution_count": null,
   "metadata": {
    "collapsed": true
   },
   "outputs": [],
   "source": []
  }
 ],
 "metadata": {
  "kernelspec": {
   "display_name": "Python 3",
   "language": "python",
   "name": "python3"
  },
  "language_info": {
   "codemirror_mode": {
    "name": "ipython",
    "version": 3
   },
   "file_extension": ".py",
   "mimetype": "text/x-python",
   "name": "python",
   "nbconvert_exporter": "python",
   "pygments_lexer": "ipython3",
   "version": "3.6.7"
  }
 },
 "nbformat": 4,
 "nbformat_minor": 2
}
