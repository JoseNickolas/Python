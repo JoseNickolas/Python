{
 "cells": [
  {
   "cell_type": "markdown",
   "metadata": {},
   "source": [
    "### Dictionary Mechanics"
   ]
  },
  {
   "cell_type": "markdown",
   "metadata": {},
   "source": [
    "#### At the halfway point during the Rio Olympics, the United States had 70 medals, Great Britain had 38 medals, China had 45 medals, Russia had 30 medals, and Germany had 17 medals. Create a dictionary assigned to the variable medal_count with the country names as the keys and the number of medals the country had as each key’s value."
   ]
  },
  {
   "cell_type": "code",
   "execution_count": null,
   "metadata": {
    "collapsed": true
   },
   "outputs": [],
   "source": [
    "medal_count = {'United States':70, 'Great Britain':38, 'China':45, 'Russia':30, 'Germany':17}"
   ]
  },
  {
   "cell_type": "markdown",
   "metadata": {},
   "source": [
    "#### Given the dictionary swimmers, add an additional key-value pair to the dictionary with \"Phelps\" as the key and the integer 23 as the value. Do not rewrite the entire dictionary."
   ]
  },
  {
   "cell_type": "code",
   "execution_count": 2,
   "metadata": {},
   "outputs": [
    {
     "data": {
      "text/plain": [
       "{'Adrian': 7,\n",
       " 'Dirado': 4,\n",
       " 'Ledecky': 5,\n",
       " 'Lochte': 12,\n",
       " 'Manuel': 4,\n",
       " 'Phelps': 23}"
      ]
     },
     "execution_count": 2,
     "metadata": {},
     "output_type": "execute_result"
    }
   ],
   "source": [
    "swimmers = {'Manuel':4, 'Lochte':12, 'Adrian':7, 'Ledecky':5, 'Dirado':4}\n",
    "swimmers['Phelps'] = 23\n",
    "swimmers"
   ]
  },
  {
   "cell_type": "markdown",
   "metadata": {},
   "source": [
    "#### Add the string “hockey” as a key to the dictionary sports_periods and assign it the value of 3. Do not rewrite the entire dictionary."
   ]
  },
  {
   "cell_type": "code",
   "execution_count": 4,
   "metadata": {},
   "outputs": [
    {
     "data": {
      "text/plain": [
       "{'baseball': 9, 'basketball': 4, 'cricket': 2, 'hockey': 3, 'soccer': 4}"
      ]
     },
     "execution_count": 4,
     "metadata": {},
     "output_type": "execute_result"
    }
   ],
   "source": [
    "sports_periods = {'baseball': 9, 'basketball': 4, 'soccer': 4, 'cricket': 2}\n",
    "sports_periods['hockey'] = 3\n",
    "sports_periods"
   ]
  },
  {
   "cell_type": "markdown",
   "metadata": {},
   "source": [
    "#### The dictionary golds contains information about how many gold medals each country won in the 2016 Olympics. But today, Spain won 2 more gold medals. Update golds to reflect this information."
   ]
  },
  {
   "cell_type": "code",
   "execution_count": 5,
   "metadata": {},
   "outputs": [
    {
     "data": {
      "text/plain": [
       "{'Argentina': 8,\n",
       " 'Brazil': 15,\n",
       " 'Canada': 22,\n",
       " 'China': 27,\n",
       " 'England': 29,\n",
       " 'Italy': 12,\n",
       " 'Spain': 21,\n",
       " 'USA': 33}"
      ]
     },
     "execution_count": 5,
     "metadata": {},
     "output_type": "execute_result"
    }
   ],
   "source": [
    "golds = {\"Italy\": 12, \"USA\": 33, \"Brazil\": 15, \"China\": 27, \"Spain\": 19, \"Canada\": 22, \"Argentina\": 8, \"England\": 29}\n",
    "golds['Spain'] = golds['Spain'] + 2\n",
    "golds"
   ]
  },
  {
   "cell_type": "markdown",
   "metadata": {},
   "source": [
    "#### Create a list of the countries that are in the dictionary golds, and assign that list to the variable name countries. Do not hard code this."
   ]
  },
  {
   "cell_type": "code",
   "execution_count": 6,
   "metadata": {},
   "outputs": [
    {
     "data": {
      "text/plain": [
       "['Italy', 'USA', 'Brazil', 'China', 'Spain', 'Canada', 'Argentina', 'England']"
      ]
     },
     "execution_count": 6,
     "metadata": {},
     "output_type": "execute_result"
    }
   ],
   "source": [
    "golds = {\"Italy\": 12, \"USA\": 33, \"Brazil\": 15, \"China\": 27, \"Spain\": 19, \"Canada\": 22, \"Argentina\": 8, \"England\": 29}\n",
    "countries = list(golds)\n",
    "countries"
   ]
  },
  {
   "cell_type": "markdown",
   "metadata": {},
   "source": [
    "#### Provided is the dictionary, medal_count, which lists countries and their respective medal count at the halfway point in the 2016 Rio Olympics. Using dictionary mechanics, assign the medal count value for \"Belarus\" to the variable belarus. Do not hardcode this."
   ]
  },
  {
   "cell_type": "code",
   "execution_count": 7,
   "metadata": {},
   "outputs": [
    {
     "data": {
      "text/plain": [
       "4"
      ]
     },
     "execution_count": 7,
     "metadata": {},
     "output_type": "execute_result"
    }
   ],
   "source": [
    "medal_count = {'United States': 70, 'Great Britain':38, 'China':45, 'Russia':30, 'Germany':17, 'Italy':22, 'France': 22, 'Japan':26, 'Australia':22, 'South Korea':14, 'Hungary':12, 'Netherlands':10, 'Spain':5, 'New Zealand':8, 'Canada':13, 'Kazakhstan':8, 'Colombia':4, 'Switzerland':5, 'Belgium':4, 'Thailand':4, 'Croatia':3, 'Iran':3, 'Jamaica':3, 'South Africa':7, 'Sweden':6, 'Denmark':7, 'North Korea':6, 'Kenya':4, 'Brazil':7, 'Belarus':4, 'Cuba':5, 'Poland':4, 'Romania':4, 'Slovenia':3, 'Argentina':2, 'Bahrain':2, 'Slovakia':2, 'Vietnam':2, 'Czech Republic':6, 'Uzbekistan':5}\n",
    "belarus = medal_count['Belarus']\n",
    "belarus"
   ]
  },
  {
   "cell_type": "markdown",
   "metadata": {},
   "source": [
    "#### The dictionary total_golds contains the total number of gold medals that countries have won over the course of history. Use dictionary mechanics to find the number of golds Chile has won, and assign that number to the variable name chile_golds. Do not hard code this!"
   ]
  },
  {
   "cell_type": "code",
   "execution_count": 8,
   "metadata": {},
   "outputs": [
    {
     "data": {
      "text/plain": [
       "13"
      ]
     },
     "execution_count": 8,
     "metadata": {},
     "output_type": "execute_result"
    }
   ],
   "source": [
    "total_golds = {\"Italy\": 114, \"Germany\": 782, \"Pakistan\": 10, \"Sweden\": 627, \"USA\": 2681, \"Zimbabwe\": 8, \"Greece\": 111, \"Mongolia\": 24, \"Brazil\": 108, \"Croatia\": 34, \"Algeria\": 15, \"Switzerland\": 323, \"Yugoslavia\": 87, \"China\": 526, \"Egypt\": 26, \"Norway\": 477, \"Spain\": 133, \"Australia\": 480, \"Slovakia\": 29, \"Canada\": 22, \"New Zealand\": 100, \"Denmark\": 180, \"Chile\": 13, \"Argentina\": 70, \"Thailand\": 24, \"Cuba\": 209, \"Uganda\": 7,  \"England\": 806, \"Denmark\": 180, \"Ukraine\": 122, \"Bahamas\": 12}\n",
    "chile_golds = total_golds['Chile']\n",
    "chile_golds"
   ]
  },
  {
   "cell_type": "markdown",
   "metadata": {},
   "source": [
    "#### Provided is a dictionary called US_medals which has the first 70 metals that the United States has won in 2016, and in which category they have won it in. Using dictionary mechanics, assign the value of the key \"Fencing\" to a variable fencing_value. Remember, do not hard code this."
   ]
  },
  {
   "cell_type": "code",
   "execution_count": 9,
   "metadata": {},
   "outputs": [
    {
     "data": {
      "text/plain": [
       "4"
      ]
     },
     "execution_count": 9,
     "metadata": {},
     "output_type": "execute_result"
    }
   ],
   "source": [
    "US_medals = {\"Swimming\": 33, \"Gymnastics\": 6, \"Track & Field\": 6, \"Tennis\": 3, \"Judo\": 2, \"Rowing\": 2, \"Shooting\": 3, \"Cycling - Road\": 1, \"Fencing\": 4, \"Diving\": 2, \"Archery\": 2, \"Cycling - Track\": 1, \"Equestrian\": 2, \"Golf\": 1, \"Weightlifting\": 1}\n",
    "fencing_value = US_medals['Fencing']\n",
    "fencing_value"
   ]
  },
  {
   "cell_type": "markdown",
   "metadata": {},
   "source": [
    "#### Provided is a string saved to the variable name sentence. Split the string into a list of words, then create a dictionary that contains each word and the number of times it occurs. Save this dictionary to the variable name word_counts."
   ]
  },
  {
   "cell_type": "code",
   "execution_count": 1,
   "metadata": {},
   "outputs": [
    {
     "name": "stdout",
     "output_type": "stream",
     "text": [
      "{'The': 1, 'dog': 1, 'chased': 1, 'the': 3, 'rabbit': 2, 'into': 1, 'forest': 1, 'but': 1, 'was': 1, 'too': 1, 'quick.': 1}\n"
     ]
    }
   ],
   "source": [
    "sentence = \"The dog chased the rabbit into the forest but the rabbit was too quick.\"\n",
    "sentence = sentence.split()\n",
    "\n",
    "word_counts = {}\n",
    "\n",
    "for word in sentence:\n",
    "    if word not in word_counts:\n",
    "        word_counts[word] = 0\n",
    "    word_counts[word] += 1\n",
    "print(word_counts)"
   ]
  },
  {
   "cell_type": "markdown",
   "metadata": {},
   "source": [
    "#### Create a dictionary called char_d from the string stri, so that the key is a character and the value is how many times it occurs."
   ]
  },
  {
   "cell_type": "code",
   "execution_count": 2,
   "metadata": {},
   "outputs": [
    {
     "name": "stdout",
     "output_type": "stream",
     "text": [
      "{'w': 1, 'h': 1, 'a': 2, 't': 1, ' ': 3, 'c': 1, 'n': 1, 'I': 1, 'd': 1, 'o': 1}\n"
     ]
    }
   ],
   "source": [
    "stri = \"what can I do\"\n",
    "\n",
    "char_d = {}\n",
    "\n",
    "for char in stri:\n",
    "    if char not in char_d:\n",
    "        char_d[char] = 0\n",
    "    char_d[char] += 1\n",
    "print(char_d)"
   ]
  },
  {
   "cell_type": "markdown",
   "metadata": {},
   "source": [
    "### ACCUMULATING RESULTS FROM A DICTIONARY"
   ]
  },
  {
   "cell_type": "markdown",
   "metadata": {},
   "source": [
    "#### Suppose that we wanted to compute a Scrabble score for the Study in Scarlet text. Each occurrence of the letter ‘e’ earns one point, but ‘q’ earns 10. We have a second dictionary, stored in the variable letter_values. Now, to compute the total score, we start an accumulator at 0 and go through each of the letters in the counts dictionary. For each of those letters that has a letter value (no points for spaces, punctuation, capital letters, etc.), we add to the total score."
   ]
  },
  {
   "cell_type": "code",
   "execution_count": 16,
   "metadata": {},
   "outputs": [
    {
     "data": {
      "text/plain": [
       "337353"
      ]
     },
     "execution_count": 16,
     "metadata": {},
     "output_type": "execute_result"
    }
   ],
   "source": [
    "f = open('scarlet.txt', 'r')\n",
    "txt = f.read()\n",
    "\n",
    "x = {}\n",
    "\n",
    "for c in txt:\n",
    "    if c not in x:\n",
    "        x[c] = 0 # we haven't seen this character before, so initialize a counter for it\n",
    "        \n",
    "    x[c] += 1 # whether we've seen it befor or not, increment its counter\n",
    "    \n",
    "letter_values = {'a': 1, 'b': 3, 'c': 3, 'd': 2, 'e': 1, 'f':4, 'g': 2, 'h':4, 'i':1, 'j':8, 'k':5, 'l':1, 'm':3, 'n':1, 'o':1, 'p':3, 'q':10, 'r':1, 's':1, 't':1, 'u':1, 'v':4, 'w':4, 'x':8, 'y':4, 'z':10}\n",
    "\n",
    "# print(x) # computes all the counts of the characters in the scarlet text document\n",
    "\n",
    "tot = 0 # to compute the total score, initialize the accumulator at 0\n",
    "for y in x:\n",
    "    if y in letter_values:\n",
    "        tot = tot + letter_values[y] * x[y]\n",
    "tot"
   ]
  },
  {
   "cell_type": "markdown",
   "metadata": {},
   "source": [
    "####  The dictionary travel contains the number of countries within each continent that Jackie has traveled to. Find the total number of countries that Jackie has been to, and save this number to the variable name total. Do not hard code this!"
   ]
  },
  {
   "cell_type": "code",
   "execution_count": 36,
   "metadata": {},
   "outputs": [
    {
     "data": {
      "text/plain": [
       "19"
      ]
     },
     "execution_count": 36,
     "metadata": {},
     "output_type": "execute_result"
    }
   ],
   "source": [
    "travel = {\"North America\": 2, \"Europe\": 8, \"South America\": 3, \"Asia\": 4, \"Africa\":1, \"Antarctica\": 0, \"Australia\": 1}\n",
    "\n",
    "total = 0\n",
    "for continent in travel:\n",
    "    total += travel[continent]\n",
    "total"
   ]
  },
  {
   "cell_type": "markdown",
   "metadata": {},
   "source": [
    "#### schedule is a dictionary where a class name is a key and its value is how many credits it was worth. Go through and accumulate the total number of credits that have been earned so far and assign that to the variable total_credits. Do not hardcode."
   ]
  },
  {
   "cell_type": "code",
   "execution_count": 37,
   "metadata": {},
   "outputs": [
    {
     "data": {
      "text/plain": [
       "63"
      ]
     },
     "execution_count": 37,
     "metadata": {},
     "output_type": "execute_result"
    }
   ],
   "source": [
    "schedule = {\"UARTS 150\": 3, \"SPANISH 103\": 4, \"ENGLISH 125\": 4, \"SI 110\": 4, \"ENS 356\": 2, \"WOMENSTD 240\": 4, \"SI 106\": 4, \"BIO 118\": 3, \"SPANISH 231\": 4, \"PSYCH 111\": 4, \"LING 111\": 3, \"SPANISH 232\": 4, \"STATS 250\": 4, \"SI 206\": 4, \"COGSCI 200\": 4, \"AMCULT 202\": 4, \"ANTHRO 101\": 4}\n",
    "\n",
    "total_credits = 0\n",
    "for course in schedule:\n",
    "    total_credits += schedule[course]\n",
    "total_credits"
   ]
  },
  {
   "cell_type": "markdown",
   "metadata": {},
   "source": [
    "#### Create a dictionary called d that keeps track of all the characters in the string placement and notes how many times each character was seen. Then, find the key with the lowest value in this dictionary and assign that key to min_value."
   ]
  },
  {
   "cell_type": "code",
   "execution_count": 41,
   "metadata": {},
   "outputs": [
    {
     "name": "stdout",
     "output_type": "stream",
     "text": [
      "{'B': 2, 'e': 17, 'a': 12, 'c': 8, 'h': 4, 's': 10, ' ': 27, 'r': 7, 'o': 10, 'l': 8, 'p': 6, 't': 8, 'v': 3, 'i': 13, 'n': 7, 'g': 2, 'w': 3, 'M': 3, 'k': 2, 'd': 2, '.': 2, 'x': 1}\n"
     ]
    },
    {
     "data": {
      "text/plain": [
       "'x'"
      ]
     },
     "execution_count": 41,
     "metadata": {},
     "output_type": "execute_result"
    }
   ],
   "source": [
    "placement = \"Beaches are cool places to visit in spring however the Mackinaw Bridge is near. Most people visit Mackinaw later since the island is a cool place to explore.\"\n",
    "\n",
    "d = {}\n",
    "\n",
    "for word in placement:\n",
    "    if word not in d:\n",
    "        d[word] = 0\n",
    "    d[word] += 1\n",
    "print(d)\n",
    "\n",
    "keys = list(d.keys())\n",
    "min_value = keys[0]\n",
    "\n",
    "for key in keys:\n",
    "    if d[min_value] > d[key]:\n",
    "        min_value = key\n",
    "min_value"
   ]
  },
  {
   "cell_type": "markdown",
   "metadata": {},
   "source": [
    "####  Create a dictionary called lett_d that keeps track of all of the characters in the string product and notes how many times each character was seen. Then, find the key with the highest value in this dictionary and assign that key to max_value."
   ]
  },
  {
   "cell_type": "code",
   "execution_count": 47,
   "metadata": {},
   "outputs": [
    {
     "name": "stdout",
     "output_type": "stream",
     "text": [
      "{'i': 2, 'p': 2, 'h': 2, 'o': 3, 'n': 4, 'e': 2, ' ': 3, 'a': 2, 'd': 3, 'r': 1, 's': 1}\n",
      "n\n"
     ]
    }
   ],
   "source": [
    "product = \"iphone and android phones\"\n",
    "\n",
    "lett_d = {}\n",
    "\n",
    "for char in product:\n",
    "    if char not in lett_d:\n",
    "        lett_d[char] = 0\n",
    "    lett_d[char] += 1\n",
    "print(lett_d)\n",
    "\n",
    "keys = list(lett_d.keys())\n",
    "max_value = keys[0]\n",
    "\n",
    "for key in keys:\n",
    "    if lett_d[key] > lett_d[max_value]:\n",
    "        max_value = key\n",
    "print(max_value)"
   ]
  },
  {
   "cell_type": "code",
   "execution_count": null,
   "metadata": {
    "collapsed": true
   },
   "outputs": [],
   "source": []
  }
 ],
 "metadata": {
  "kernelspec": {
   "display_name": "Python 3",
   "language": "python",
   "name": "python3"
  },
  "language_info": {
   "codemirror_mode": {
    "name": "ipython",
    "version": 3
   },
   "file_extension": ".py",
   "mimetype": "text/x-python",
   "name": "python",
   "nbconvert_exporter": "python",
   "pygments_lexer": "ipython3",
   "version": "3.6.7"
  }
 },
 "nbformat": 4,
 "nbformat_minor": 2
}
