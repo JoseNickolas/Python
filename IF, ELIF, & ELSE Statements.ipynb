{
 "cells": [
  {
   "cell_type": "code",
   "execution_count": 1,
   "metadata": {
    "collapsed": true
   },
   "outputs": [],
   "source": [
    "# if, elif and else statements\n",
    "def grade_converter(grade):\n",
    "    if grade >= 4.0:\n",
    "        return \"A\"\n",
    "    elif grade >=3:\n",
    "        return \"B\"\n",
    "    elif grade >= 2.0:\n",
    "        return \"C\"\n",
    "    elif grade >= 1.0:\n",
    "        return \"D\"\n",
    "    else:\n",
    "        return \"F\""
   ]
  },
  {
   "cell_type": "code",
   "execution_count": 2,
   "metadata": {},
   "outputs": [
    {
     "data": {
      "text/plain": [
       "'C'"
      ]
     },
     "execution_count": 2,
     "metadata": {},
     "output_type": "execute_result"
    }
   ],
   "source": [
    "grade_converter(2.7)"
   ]
  },
  {
   "cell_type": "code",
   "execution_count": 3,
   "metadata": {
    "collapsed": true
   },
   "outputs": [],
   "source": [
    "# putting all together (if, elif and else statements)\n",
    "def applicant_selector(gpa, ps_score, ec_count):\n",
    "    if gpa >= 3.0 and ps_score >= 90 and ec_count >= 3:\n",
    "        return \"This applicant should be accepted.\"\n",
    "    elif gpa >= 3.0 and ps_score >= 90 and not ec_count >= 3:\n",
    "            return \"This applicant should be given an in-person interview.\"\n",
    "    else:\n",
    "        return \"This applicant should be rejected.\""
   ]
  },
  {
   "cell_type": "code",
   "execution_count": 4,
   "metadata": {},
   "outputs": [
    {
     "data": {
      "text/plain": [
       "'This applicant should be given an in-person interview.'"
      ]
     },
     "execution_count": 4,
     "metadata": {},
     "output_type": "execute_result"
    }
   ],
   "source": [
    "applicant_selector(3.6, 90, 1)"
   ]
  },
  {
   "cell_type": "code",
   "execution_count": 5,
   "metadata": {
    "collapsed": true
   },
   "outputs": [],
   "source": [
    "# Project\n",
    "# Ground Shipping\n",
    "\n",
    "def cost_of_ground_shipping(weight):\n",
    "    if weight <= 2:\n",
    "        price = 1.50\n",
    "    elif weight <= 6:\n",
    "        price = 3.00\n",
    "    elif weight <= 10:\n",
    "        price = 4.00\n",
    "    else:\n",
    "        price = 4.75\n",
    "    flat_charge = 20\n",
    "    cost = (weight * price) + flat_charge \n",
    "    return cost"
   ]
  },
  {
   "cell_type": "code",
   "execution_count": 6,
   "metadata": {},
   "outputs": [
    {
     "data": {
      "text/plain": [
       "53.6"
      ]
     },
     "execution_count": 6,
     "metadata": {},
     "output_type": "execute_result"
    }
   ],
   "source": [
    "cost_of_ground_shipping(8.4)"
   ]
  },
  {
   "cell_type": "code",
   "execution_count": 7,
   "metadata": {
    "collapsed": true
   },
   "outputs": [],
   "source": [
    "def cost_of_drone_shipping(weight):\n",
    "    if weight <= 2:\n",
    "        price = 4.50\n",
    "    elif weight <= 6:\n",
    "        price = 9.00\n",
    "    elif weight >= 10:\n",
    "        price = 12.00\n",
    "    else:\n",
    "        price = 14.25\n",
    "    cost_drone = weight * price\n",
    "    return cost_drone"
   ]
  },
  {
   "cell_type": "code",
   "execution_count": 8,
   "metadata": {},
   "outputs": [
    {
     "data": {
      "text/plain": [
       "6.75"
      ]
     },
     "execution_count": 8,
     "metadata": {},
     "output_type": "execute_result"
    }
   ],
   "source": [
    "cost_of_drone_shipping(1.5)"
   ]
  },
  {
   "cell_type": "code",
   "execution_count": 9,
   "metadata": {
    "collapsed": true
   },
   "outputs": [],
   "source": [
    "cost_premium_ground_shipping = 125.00"
   ]
  },
  {
   "cell_type": "code",
   "execution_count": 10,
   "metadata": {
    "collapsed": true
   },
   "outputs": [],
   "source": [
    "def optimal_cost(weight):\n",
    "    cost_of_ground_shipping(weight)\n",
    "    cost_of_drone_shipping(weight)\n",
    "    cost_premium_ground_shipping = 125.00\n",
    "    return min(cost_of_ground_shipping(weight), cost_of_drone_shipping(weight), cost_premium_ground_shipping)"
   ]
  },
  {
   "cell_type": "code",
   "execution_count": 11,
   "metadata": {},
   "outputs": [
    {
     "data": {
      "text/plain": [
       "34.4"
      ]
     },
     "execution_count": 11,
     "metadata": {},
     "output_type": "execute_result"
    }
   ],
   "source": [
    "optimal_cost(4.8)"
   ]
  },
  {
   "cell_type": "code",
   "execution_count": 12,
   "metadata": {},
   "outputs": [
    {
     "data": {
      "text/plain": [
       "125.0"
      ]
     },
     "execution_count": 12,
     "metadata": {},
     "output_type": "execute_result"
    }
   ],
   "source": [
    "optimal_cost(41.5)"
   ]
  }
 ],
 "metadata": {
  "kernelspec": {
   "display_name": "Python 3",
   "language": "python",
   "name": "python3"
  },
  "language_info": {
   "codemirror_mode": {
    "name": "ipython",
    "version": 3
   },
   "file_extension": ".py",
   "mimetype": "text/x-python",
   "name": "python",
   "nbconvert_exporter": "python",
   "pygments_lexer": "ipython3",
   "version": "3.6.3"
  }
 },
 "nbformat": 4,
 "nbformat_minor": 2
}
