{
 "cells": [
  {
   "cell_type": "markdown",
   "metadata": {},
   "source": [
    "#### Introduction, from the list below, create a dictionary and sort the newly created dictionary"
   ]
  },
  {
   "cell_type": "code",
   "execution_count": 4,
   "metadata": {},
   "outputs": [
    {
     "name": "stdout",
     "output_type": "stream",
     "text": [
      "{'E': 2, 'F': 1, 'B': 2, 'A': 2, 'D': 4, 'I': 2, 'C': 1}\n",
      "E appears 2 times.\n",
      "F appears 1 times.\n",
      "B appears 2 times.\n",
      "A appears 2 times.\n",
      "D appears 4 times.\n",
      "I appears 2 times.\n",
      "C appears 1 times.\n"
     ]
    }
   ],
   "source": [
    "L = ['E', 'F', 'B', 'A', 'D', 'I', 'I', 'C', 'B', 'A', 'D', 'D', 'E', 'D']\n",
    "\n",
    "d = {} # create an empty dictionary\n",
    "\n",
    "# for loop to create the key-value pairs from the list above (L)\n",
    "for x in L:\n",
    "    if x in d:\n",
    "        d[x] += 1\n",
    "    else:\n",
    "        d[x] = 1\n",
    "\n",
    "print(d)\n",
    "\n",
    "keys = list(d.keys())\n",
    "\n",
    "# Note that when sorting the dictionary, it is not sorted in any particular order\n",
    "for x in keys: # or for x in d.keys()\n",
    "    print('{} appears {} times.'.format(x, d[x])) "
   ]
  },
  {
   "cell_type": "markdown",
   "metadata": {},
   "source": [
    "#### Sort the same list and dictionary in the order, so that the keys show in alphabetical order"
   ]
  },
  {
   "cell_type": "code",
   "execution_count": 2,
   "metadata": {},
   "outputs": [
    {
     "name": "stdout",
     "output_type": "stream",
     "text": [
      "{'E': 2, 'F': 1, 'B': 2, 'A': 2, 'D': 4, 'I': 2, 'C': 1}\n",
      "A appears 2 times. \n",
      "B appears 2 times. \n",
      "C appears 1 times. \n",
      "D appears 4 times. \n",
      "E appears 2 times. \n",
      "F appears 1 times. \n",
      "I appears 2 times. \n"
     ]
    }
   ],
   "source": [
    "L = ['E', 'F', 'B', 'A', 'D', 'I', 'I', 'C', 'B', 'A', 'D', 'D', 'E', 'D']\n",
    "\n",
    "d = {} # create empty dictionary\n",
    "\n",
    "for x in L:\n",
    "    if x in d:\n",
    "        d[x] += 1\n",
    "    else:\n",
    "        d[x] = 1\n",
    "        \n",
    "print(d) # prints newly created dictionary (d)\n",
    "\n",
    "sorted_dict = sorted(d.keys()) # sorts the dictionary keys ONLY\n",
    "\n",
    "for key in sorted_dict:\n",
    "    print('{} appears {} times. '.format(key, d[key]))"
   ]
  },
  {
   "cell_type": "markdown",
   "metadata": {},
   "source": [
    "#### Suppose we want to sort the list and dictionary based on the dictionary values, and NOT on the dictionary keys. Use LAMBDA"
   ]
  },
  {
   "cell_type": "code",
   "execution_count": 3,
   "metadata": {},
   "outputs": [
    {
     "name": "stdout",
     "output_type": "stream",
     "text": [
      "{'E': 2, 'F': 1, 'B': 2, 'A': 2, 'D': 4, 'I': 2, 'C': 1}\n",
      "D appears 4 times.\n",
      "E appears 2 times.\n",
      "B appears 2 times.\n",
      "A appears 2 times.\n",
      "I appears 2 times.\n",
      "F appears 1 times.\n",
      "C appears 1 times.\n"
     ]
    }
   ],
   "source": [
    "L = ['E', 'F', 'B', 'A', 'D', 'I', 'I', 'C', 'B', 'A', 'D', 'D', 'E', 'D']\n",
    "\n",
    "d = {}\n",
    "\n",
    "for x in L:\n",
    "    if x in d:\n",
    "        d[x] += 1\n",
    "    else:\n",
    "        d[x] = 1\n",
    "\n",
    "print(d)\n",
    "\n",
    "sorted_keys = sorted(d.keys(), reverse = True, key = lambda key: d[key])\n",
    "\n",
    "for key in sorted_keys:\n",
    "    print('{} appears {} times.'.format(key, d[key]))"
   ]
  },
  {
   "cell_type": "markdown",
   "metadata": {},
   "source": [
    "#### Sort the same dictionary based on key values, and using a named function (not lambda)"
   ]
  },
  {
   "cell_type": "code",
   "execution_count": 4,
   "metadata": {},
   "outputs": [
    {
     "name": "stdout",
     "output_type": "stream",
     "text": [
      "{'E': 2, 'F': 1, 'B': 2, 'A': 2, 'D': 4, 'I': 2, 'C': 1}\n",
      "D appears 4 times. \n",
      "E appears 2 times. \n",
      "B appears 2 times. \n",
      "A appears 2 times. \n",
      "I appears 2 times. \n",
      "F appears 1 times. \n",
      "C appears 1 times. \n"
     ]
    }
   ],
   "source": [
    "L = ['E', 'F', 'B', 'A', 'D', 'I', 'I', 'C', 'B', 'A', 'D', 'D', 'E', 'D']\n",
    "\n",
    "d = {}\n",
    "\n",
    "for x in L:\n",
    "    if x in d:\n",
    "        d[x] += 1\n",
    "    else:\n",
    "        d[x] = 1\n",
    "        \n",
    "print(d)\n",
    "\n",
    "# create named function\n",
    "\n",
    "def sort(key):\n",
    "    return d[key]\n",
    "\n",
    "sorted_dict = sorted(d.keys(), reverse = True, key = sort)\n",
    "\n",
    "for key in sorted_dict:\n",
    "    print('{} appears {} times. '.format(key, d[key]))"
   ]
  },
  {
   "cell_type": "markdown",
   "metadata": {},
   "source": [
    "#### Shortcuts for experienced programmers"
   ]
  },
  {
   "cell_type": "code",
   "execution_count": 5,
   "metadata": {},
   "outputs": [
    {
     "name": "stdout",
     "output_type": "stream",
     "text": [
      "{'E': 2, 'F': 1, 'B': 2, 'A': 2, 'D': 4, 'I': 2, 'C': 1}\n",
      "D 4\n",
      "E 2\n",
      "B 2\n",
      "A 2\n",
      "I 2\n",
      "F 1\n",
      "C 1\n"
     ]
    }
   ],
   "source": [
    "L = ['E', 'F', 'B', 'A', 'D', 'I', 'I', 'C', 'B', 'A', 'D', 'D', 'E', 'D']\n",
    "\n",
    "d = {}\n",
    "\n",
    "for x in L:\n",
    "    if x in d:\n",
    "        d[x] += 1\n",
    "    else:\n",
    "        d[x] = 1\n",
    "        \n",
    "print(d)\n",
    "\n",
    "for key in sorted(d, key = lambda key: d[key], reverse = True):\n",
    "    print(key, d[key])"
   ]
  },
  {
   "cell_type": "markdown",
   "metadata": {},
   "source": [
    "#### Sort the following dictionary based on the keys so that they are sorted a to z. Assign the resulting value to the variable sorted_keys."
   ]
  },
  {
   "cell_type": "code",
   "execution_count": 6,
   "metadata": {},
   "outputs": [
    {
     "data": {
      "text/plain": [
       "['Chairs', 'Firepit', 'Flowers', 'Grill', 'Lights', 'Trees']"
      ]
     },
     "execution_count": 6,
     "metadata": {},
     "output_type": "execute_result"
    }
   ],
   "source": [
    "dictionary = {\"Flowers\": 10, 'Trees': 20, 'Chairs': 6, \"Firepit\": 1, 'Grill': 2, 'Lights': 14}\n",
    "\n",
    "sorted_keys = sorted(dictionary,reverse = False)\n",
    "sorted_keys"
   ]
  },
  {
   "cell_type": "markdown",
   "metadata": {},
   "source": [
    "#### Below, we have provided the dictionary groceries, whose keys are grocery items, and values are the number of each item that you need to buy at the store. Sort the dictionary’s keys into alphabetical order, and save them as a list called grocery_keys_sorted."
   ]
  },
  {
   "cell_type": "code",
   "execution_count": 7,
   "metadata": {},
   "outputs": [
    {
     "data": {
      "text/plain": [
       "['apples',\n",
       " 'bananas',\n",
       " 'carrots',\n",
       " 'cereal',\n",
       " 'coffee',\n",
       " 'granola bars',\n",
       " 'onions',\n",
       " 'orange juice',\n",
       " 'pasta',\n",
       " 'peanut butter',\n",
       " 'popcorn',\n",
       " 'rice',\n",
       " 'salsa',\n",
       " 'spinach']"
      ]
     },
     "execution_count": 7,
     "metadata": {},
     "output_type": "execute_result"
    }
   ],
   "source": [
    "groceries = {'apples': 5, 'pasta': 3, 'carrots': 12, 'orange juice': 2, 'bananas': 8, 'popcorn': 1, 'salsa': 3, 'cereal': 4, 'coffee': 5, 'granola bars': 15, 'onions': 7, 'rice': 1, 'peanut butter': 2, 'spinach': 9}\n",
    "\n",
    "grocery_keys_sorted = sorted(groceries, reverse = False)\n",
    "grocery_keys_sorted"
   ]
  },
  {
   "cell_type": "markdown",
   "metadata": {},
   "source": [
    "#### Sort the following dictionary’s keys based on the value from highest to lowest. Assign the resulting value to the variable sorted_values."
   ]
  },
  {
   "cell_type": "code",
   "execution_count": 8,
   "metadata": {},
   "outputs": [
    {
     "name": "stdout",
     "output_type": "stream",
     "text": [
      "Flowers 10\n",
      "Trees 20\n",
      "Chairs 6\n",
      "Firepit 1\n",
      "Grill 2\n",
      "Lights 14\n"
     ]
    },
    {
     "data": {
      "text/plain": [
       "['Trees', 'Lights', 'Flowers', 'Chairs', 'Grill', 'Firepit']"
      ]
     },
     "execution_count": 8,
     "metadata": {},
     "output_type": "execute_result"
    }
   ],
   "source": [
    "dictionary = {\"Flowers\": 10, 'Trees': 20, 'Chairs': 6, \"Firepit\": 1, 'Grill': 2, 'Lights': 14}\n",
    "\n",
    "keys = list(dictionary.keys())\n",
    "\n",
    "for key in keys:\n",
    "    print(key, dictionary[key])\n",
    "            \n",
    "\n",
    "def g(k):\n",
    "    return dictionary[k]\n",
    "\n",
    "sorted_values = sorted(dictionary.keys(), key = g, reverse = True)\n",
    "\n",
    "sorted_values"
   ]
  },
  {
   "cell_type": "markdown",
   "metadata": {},
   "source": [
    "#### You will be sorting the following list by each element’s second letter, a to z. Create a function to use when sorting, called second_let. It will take a string as input and return the second letter of that string. Then sort the list, create a variable called sorted_by_second_let and assign the sorted list to it. Do not use lambda."
   ]
  },
  {
   "cell_type": "code",
   "execution_count": 9,
   "metadata": {},
   "outputs": [
    {
     "data": {
      "text/plain": [
       "['dance', 'zebra', 'hi', 'how are you', 'apple', 'bye']"
      ]
     },
     "execution_count": 9,
     "metadata": {},
     "output_type": "execute_result"
    }
   ],
   "source": [
    "ex_lst = ['hi', 'how are you', 'bye', 'apple', 'zebra', 'dance']\n",
    "\n",
    "def second_let(x):\n",
    "    return x[1]\n",
    "\n",
    "sorted_by_second_let = sorted(ex_lst, key = second_let)\n",
    "sorted_by_second_let"
   ]
  },
  {
   "cell_type": "markdown",
   "metadata": {},
   "source": [
    "#### Below, we have provided a list of strings called nums. Write a function called last_char that takes a string as input, and returns only its last character. Use this function to sort the list nums by the last digit of each number, from highest to lowest, and save this as a new list called nums_sorted."
   ]
  },
  {
   "cell_type": "code",
   "execution_count": 10,
   "metadata": {},
   "outputs": [
    {
     "data": {
      "text/plain": [
       "['19', '14378', '8907', '16', '1005', '44', '33', '32', '871', '1450']"
      ]
     },
     "execution_count": 10,
     "metadata": {},
     "output_type": "execute_result"
    }
   ],
   "source": [
    "nums = ['1450', '33', '871', '19', '14378', '32', '1005', '44', '8907', '16']\n",
    "\n",
    "def last_char(x):\n",
    "    return x[-1]\n",
    "\n",
    "nums_sorted = sorted(nums, reverse = True, key = last_char)\n",
    "nums_sorted"
   ]
  },
  {
   "cell_type": "markdown",
   "metadata": {},
   "source": [
    "#### Once again, sort the list nums based on the last digit of each number from highest to lowest. However, now you should do so by writing a lambda function. Save the new list as nums_sorted_lambda."
   ]
  },
  {
   "cell_type": "code",
   "execution_count": 11,
   "metadata": {},
   "outputs": [
    {
     "data": {
      "text/plain": [
       "['19', '14378', '8907', '16', '1005', '44', '33', '32', '871', '1450']"
      ]
     },
     "execution_count": 11,
     "metadata": {},
     "output_type": "execute_result"
    }
   ],
   "source": [
    "nums = ['1450', '33', '871', '19', '14378', '32', '1005', '44', '8907', '16']\n",
    "\n",
    "nums_sorted_lambda = sorted(nums, reverse = True, key = lambda x: x[-1])\n",
    "nums_sorted_lambda"
   ]
  },
  {
   "cell_type": "markdown",
   "metadata": {},
   "source": [
    "## The way of the Programmer | When to use lambda"
   ]
  },
  {
   "cell_type": "markdown",
   "metadata": {},
   "source": [
    "#### Sort the states in order by the length of the first city name"
   ]
  },
  {
   "cell_type": "code",
   "execution_count": 12,
   "metadata": {},
   "outputs": [
    {
     "name": "stdout",
     "output_type": "stream",
     "text": [
      "['Washington', 'Minnesota', 'Michigan']\n"
     ]
    }
   ],
   "source": [
    "states = {\"Minnesota\": [\"St. Paul\", \"Minneapolis\", \"Saint Cloud\", \"Stillwater\"],\n",
    "          \"Michigan\": [\"Ann Arbor\", \"Traverse City\", \"Lansing\", \"Kalamazoo\"],\n",
    "          \"Washington\": [\"Seattle\", \"Tacoma\", \"Olympia\", \"Vancouver\"]}\n",
    "\n",
    "print(sorted(states, key = lambda state: (len(states[state][0]))))"
   ]
  },
  {
   "cell_type": "markdown",
   "metadata": {},
   "source": [
    "#### Sort by the number of cities that begin with the letter ‘S’."
   ]
  },
  {
   "cell_type": "code",
   "execution_count": 75,
   "metadata": {},
   "outputs": [
    {
     "name": "stdout",
     "output_type": "stream",
     "text": [
      "St. Paul\n",
      "Saint Cloud\n",
      "Stillwater\n",
      "Seattle\n",
      "4\n"
     ]
    }
   ],
   "source": [
    "states = {\"Minnesota\": [\"St. Paul\", \"Minneapolis\", \"Saint Cloud\", \"Stillwater\"],\n",
    "          \"Michigan\": [\"Ann Arbor\", \"Traverse City\", \"Lansing\", \"Kalamazoo\"],\n",
    "          \"Washington\": [\"Seattle\", \"Tacoma\", \"Olympia\", \"Vancouver\"]}\n",
    "\n",
    "city_count = 0\n",
    "\n",
    "for state in states:\n",
    "    cities = list(states[state])\n",
    "    for city in cities:\n",
    "        if city[0] == 'S':\n",
    "            city_count += 1\n",
    "            print(city)\n",
    "print(city_count)"
   ]
  },
  {
   "cell_type": "code",
   "execution_count": 76,
   "metadata": {
    "collapsed": true
   },
   "outputs": [],
   "source": [
    "def s_cities(states):\n",
    "    \n",
    "    city_count = 0\n",
    "    \n",
    "    for state in states:\n",
    "        cities = list(states[state])\n",
    "        for city in cities:\n",
    "            if city[0] == 'S':\n",
    "                city_count += 1\n",
    "                city_count = int(city_count)\n",
    "                print(city)\n",
    "                \n",
    "    return city_count"
   ]
  },
  {
   "cell_type": "code",
   "execution_count": 78,
   "metadata": {},
   "outputs": [
    {
     "name": "stdout",
     "output_type": "stream",
     "text": [
      "St. Paul\n",
      "Saint Cloud\n",
      "Stillwater\n",
      "Seattle\n"
     ]
    },
    {
     "data": {
      "text/plain": [
       "4"
      ]
     },
     "execution_count": 78,
     "metadata": {},
     "output_type": "execute_result"
    }
   ],
   "source": [
    "states = {\"Minnesota\": [\"St. Paul\", \"Minneapolis\", \"Saint Cloud\", \"Stillwater\"],\n",
    "          \"Michigan\": [\"Ann Arbor\", \"Traverse City\", \"Lansing\", \"Kalamazoo\"],\n",
    "          \"Washington\": [\"Seattle\", \"Tacoma\", \"Olympia\", \"Vancouver\"]}\n",
    "s_cities(states)"
   ]
  },
  {
   "cell_type": "code",
   "execution_count": 5,
   "metadata": {},
   "outputs": [
    {
     "data": {
      "text/plain": [
       "['Michigan', 'Washington', 'Minnesota']"
      ]
     },
     "execution_count": 5,
     "metadata": {},
     "output_type": "execute_result"
    }
   ],
   "source": [
    "# testimg my own code - For the function, leave just the last portion of the function at cities/city level\n",
    "\n",
    "def s_cities(cities):\n",
    "    \n",
    "    city_count = 0\n",
    "    \n",
    "    for city in cities:\n",
    "        if city[0] == 'S':\n",
    "            city_count += 1\n",
    "                \n",
    "    return city_count\n",
    "\n",
    "states = {\"Minnesota\": [\"St. Paul\", \"Minneapolis\", \"Saint Cloud\", \"Stillwater\"],\n",
    "          \"Michigan\": [\"Ann Arbor\", \"Traverse City\", \"Lansing\", \"Kalamazoo\"],\n",
    "          \"Washington\": [\"Seattle\", \"Tacoma\", \"Olympia\", \"Vancouver\"]}\n",
    "\n",
    "sorted_cities = sorted(states, key = lambda state: s_cities(states[state])) # from lowesr to highest\n",
    "sorted_cities"
   ]
  },
  {
   "cell_type": "code",
   "execution_count": 6,
   "metadata": {},
   "outputs": [
    {
     "name": "stdout",
     "output_type": "stream",
     "text": [
      "['Michigan', 'Washington', 'Minnesota']\n"
     ]
    }
   ],
   "source": [
    "### From class example\n",
    "\n",
    "def s_cities_count(city_list):\n",
    "    ct = 0\n",
    "    for city in city_list:\n",
    "        if city[0] == \"S\":\n",
    "            ct += 1\n",
    "    return ct\n",
    "\n",
    "states = {\"Minnesota\": [\"St. Paul\", \"Minneapolis\", \"Saint Cloud\", \"Stillwater\"],\n",
    "          \"Michigan\": [\"Ann Arbor\", \"Traverse City\", \"Lansing\", \"Kalamazoo\"],\n",
    "          \"Washington\": [\"Seattle\", \"Tacoma\", \"Olympia\", \"Vancouver\"]}\n",
    "\n",
    "print(sorted(states, key=lambda state: s_cities_count(states[state])))"
   ]
  },
  {
   "cell_type": "code",
   "execution_count": null,
   "metadata": {
    "collapsed": true
   },
   "outputs": [],
   "source": []
  }
 ],
 "metadata": {
  "kernelspec": {
   "display_name": "Python 3",
   "language": "python",
   "name": "python3"
  },
  "language_info": {
   "codemirror_mode": {
    "name": "ipython",
    "version": 3
   },
   "file_extension": ".py",
   "mimetype": "text/x-python",
   "name": "python",
   "nbconvert_exporter": "python",
   "pygments_lexer": "ipython3",
   "version": "3.6.7"
  }
 },
 "nbformat": 4,
 "nbformat_minor": 2
}
