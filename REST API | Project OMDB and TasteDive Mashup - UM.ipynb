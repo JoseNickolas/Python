{
 "cells": [
  {
   "cell_type": "markdown",
   "metadata": {},
   "source": [
    "#### Define a function, called get_movies_from_tastedive. It should take one input parameter, a string that is the name of a movie or music artist. The function should return the 5 TasteDive results that are associated with that string; be sure to only get movies, not other kinds of media. It will be a python dictionary with just one key, ‘Similar’.\n",
    "#### HINT: Be sure to include only q, type, and limit as parameters in order to extract data from the cache. If any other parameters are included, then the function will not be able to recognize the data that you’re attempting to pull from the cache. Remember, you will not need an api key in order to complete the project, because all data will be found in the cache."
   ]
  },
  {
   "cell_type": "code",
   "execution_count": 509,
   "metadata": {
    "collapsed": true
   },
   "outputs": [],
   "source": [
    "import requests\n",
    "import json"
   ]
  },
  {
   "cell_type": "code",
   "execution_count": 510,
   "metadata": {
    "collapsed": true
   },
   "outputs": [],
   "source": [
    "def get_movies_from_tastedive(movie):\n",
    "    key = \"373649-Nicolas-BC22791B\"\n",
    "    baseurl= \"https://tastedive.com/api/similar\"\n",
    "    params_diction = {}\n",
    "    params_diction['q'] = movie\n",
    "    params_diction['type'] = 'movies'\n",
    "    params_diction['limit'] = '5'\n",
    "    resp = requests.get(baseurl, params = params_diction)\n",
    "    data_results = json.loads(resp.text)\n",
    "    return data_results"
   ]
  },
  {
   "cell_type": "markdown",
   "metadata": {},
   "source": [
    "#### Alternatively we can also write the function below"
   ]
  },
  {
   "cell_type": "code",
   "execution_count": 511,
   "metadata": {
    "collapsed": true
   },
   "outputs": [],
   "source": [
    "def get_movies_from_tastedive(movie):\n",
    "    key = \"373649-Nicolas-BC22791B\"\n",
    "    baseurl= \"https://tastedive.com/api/similar\"\n",
    "    parameters = {\"q\":movie, \"type\":\"movies\", \"limit\":5}  \n",
    "    resp = requests.get(baseurl, params = parameters)\n",
    "    data_results = json.loads(resp.text)\n",
    "    return data_results"
   ]
  },
  {
   "cell_type": "code",
   "execution_count": 512,
   "metadata": {},
   "outputs": [
    {
     "data": {
      "text/plain": [
       "{'error': 'Rate limit exceeded, try again later'}"
      ]
     },
     "execution_count": 512,
     "metadata": {},
     "output_type": "execute_result"
    }
   ],
   "source": [
    "get_movies_from_tastedive(\"Bridesmaids\")"
   ]
  },
  {
   "cell_type": "code",
   "execution_count": 417,
   "metadata": {},
   "outputs": [
    {
     "data": {
      "text/plain": [
       "[{'Name': 'Ready Player One', 'Type': 'movie'},\n",
       " {'Name': 'Thor: Ragnarok', 'Type': 'movie'},\n",
       " {'Name': 'Deadpool 2', 'Type': 'movie'},\n",
       " {'Name': 'Spider-Man: Homecoming', 'Type': 'movie'},\n",
       " {'Name': 'Guardians Of The Galaxy Vol. 2', 'Type': 'movie'}]"
      ]
     },
     "execution_count": 417,
     "metadata": {},
     "output_type": "execute_result"
    }
   ],
   "source": [
    "get_movies_from_tastedive(\"Black Panther\")['Similar']['Results']"
   ]
  },
  {
   "cell_type": "markdown",
   "metadata": {},
   "source": [
    "#### Please copy the completed function from above into this active code window. Next, you will need to write a function that extracts just the list of movie titles from a dictionary returned by get_movies_from_tastedive. Call it extract_movie_titles."
   ]
  },
  {
   "cell_type": "code",
   "execution_count": 611,
   "metadata": {
    "collapsed": true
   },
   "outputs": [],
   "source": [
    "def get_movies_from_tastedive(movie):\n",
    "    key = \"373649-Nicolas-BC22791B\"\n",
    "    baseurl= \"https://tastedive.com/api/similar\"\n",
    "    parameters = {\"q\":movie, \"type\":\"movies\", \"limit\":5}  \n",
    "    resp = requests.get(baseurl, params = parameters)\n",
    "    data_results = json.loads(resp.text)\n",
    "    return data_results"
   ]
  },
  {
   "cell_type": "code",
   "execution_count": 612,
   "metadata": {
    "collapsed": true
   },
   "outputs": [],
   "source": [
    "def extract_movie_titles(get_movies_from_tastedive):\n",
    "    movie_titles = get_movies_from_tastedive['Similar']['Results']\n",
    "    titles = []\n",
    "    for title in movie_titles:\n",
    "        titles.append(title['Name'])\n",
    "    return titles"
   ]
  },
  {
   "cell_type": "code",
   "execution_count": 613,
   "metadata": {},
   "outputs": [
    {
     "data": {
      "text/plain": [
       "['Ready Player One',\n",
       " 'Thor: Ragnarok',\n",
       " 'Deadpool 2',\n",
       " 'Spider-Man: Homecoming',\n",
       " 'Guardians Of The Galaxy Vol. 2']"
      ]
     },
     "execution_count": 613,
     "metadata": {},
     "output_type": "execute_result"
    }
   ],
   "source": [
    "extract_movie_titles(get_movies_from_tastedive(\"Black Panther\"))"
   ]
  },
  {
   "cell_type": "markdown",
   "metadata": {},
   "source": [
    "#### Please copy the completed functions from the two code windows above into this active code window. Next, you’ll write a function, called get_related_titles. It takes a list of movie titles as input. It gets five related movies for each from TasteDive, extracts the titles for all of them, and combines them all into a single list. Don’t include the same movie twice."
   ]
  },
  {
   "cell_type": "code",
   "execution_count": 620,
   "metadata": {
    "collapsed": true
   },
   "outputs": [],
   "source": [
    "def get_movies_from_tastedive(movie):\n",
    "    key = \"373649-Nicolas-BC22791B\"\n",
    "    baseurl= \"https://tastedive.com/api/similar\"\n",
    "    parameters = {\"q\":movie, \"type\":\"movies\", \"limit\":5}  \n",
    "    resp = requests.get(baseurl, params = parameters)\n",
    "    data_results = json.loads(resp.text)\n",
    "    return data_results\n",
    "\n",
    "def extract_movie_titles(get_movies_from_tastedive):\n",
    "    movie_titles = get_movies_from_tastedive['Similar']['Results']\n",
    "    titles = []\n",
    "    for title in movie_titles:\n",
    "        titles.append(title['Name'])\n",
    "    return titles\n",
    "\n",
    "\n",
    "def get_related_titles(movie_list):\n",
    "    movies = movie_list\n",
    "    related_titles = []\n",
    "    for movie in movies:\n",
    "        recos = get_movies_from_tastedive(movie)\n",
    "        extract = extract_movie_titles(recos)\n",
    "        related_titles.extend(extract)\n",
    "    related_titles = list(set(related_titles)) \n",
    "    return related_titles"
   ]
  },
  {
   "cell_type": "code",
   "execution_count": 621,
   "metadata": {},
   "outputs": [
    {
     "data": {
      "text/plain": [
       "['Guardians Of The Galaxy Vol. 2',\n",
       " 'Aquaman',\n",
       " 'Deadpool 2',\n",
       " 'Spider-Man: Homecoming',\n",
       " 'Venom',\n",
       " 'Spider-Man: Far From Home',\n",
       " 'Thor: Ragnarok',\n",
       " 'Ready Player One',\n",
       " 'Ant-Man And The Wasp',\n",
       " 'Avengers: Endgame']"
      ]
     },
     "execution_count": 621,
     "metadata": {},
     "output_type": "execute_result"
    }
   ],
   "source": [
    "get_related_titles([\"Black Panther\", \"Captain Marvel\"])"
   ]
  },
  {
   "cell_type": "markdown",
   "metadata": {},
   "source": [
    "#### Your next task will be to fetch data from OMDB. The documentation for the API is at https://www.omdbapi.com/\n",
    "#### Define a function called get_movie_data. It takes in one parameter which is a string that should represent the title of a movie you want to search. The function should return a dictionary with information about that movie.\n",
    "#### Again, use requests_with_caching.get(). For the queries on movies that are already in the cache, you won’t need an api key. You will need to provide the following keys: t and r. As with the TasteDive cache, be sure to only include those two parameters in order to extract existing data from the cache."
   ]
  },
  {
   "cell_type": "code",
   "execution_count": 609,
   "metadata": {},
   "outputs": [],
   "source": [
    "def get_movie_data(title):\n",
    "    key = '475a5069'\n",
    "    baseurl = 'http://www.omdbapi.com/?apikey=475a5069'\n",
    "    parameters = {'t':title, 'r': 'json'}\n",
    "    resp = requests.get(baseurl, params = parameters)\n",
    "    data_results = json.loads(resp.text)\n",
    "    return data_results"
   ]
  },
  {
   "cell_type": "code",
   "execution_count": 610,
   "metadata": {},
   "outputs": [
    {
     "data": {
      "text/plain": [
       "{'Actors': 'Tom Hardy, Michelle Williams, Riz Ahmed, Scott Haze',\n",
       " 'Awards': '3 wins & 9 nominations.',\n",
       " 'BoxOffice': 'N/A',\n",
       " 'Country': 'China, USA',\n",
       " 'DVD': 'N/A',\n",
       " 'Director': 'Ruben Fleischer',\n",
       " 'Genre': 'Action, Adventure, Sci-Fi, Thriller',\n",
       " 'Language': 'English, Mandarin, Malay',\n",
       " 'Metascore': '35',\n",
       " 'Plot': 'A failed reporter is bonded to an alien entity, one of many symbiotes who have invaded Earth. But the being takes a liking to Earth and decides to protect it.',\n",
       " 'Poster': 'https://m.media-amazon.com/images/M/MV5BNzAwNzUzNjY4MV5BMl5BanBnXkFtZTgwMTQ5MzM0NjM@._V1_SX300.jpg',\n",
       " 'Production': 'N/A',\n",
       " 'Rated': 'PG-13',\n",
       " 'Ratings': [{'Source': 'Internet Movie Database', 'Value': '6.7/10'},\n",
       "  {'Source': 'Rotten Tomatoes', 'Value': '29%'},\n",
       "  {'Source': 'Metacritic', 'Value': '35/100'}],\n",
       " 'Released': '05 Oct 2018',\n",
       " 'Response': 'True',\n",
       " 'Runtime': '112 min',\n",
       " 'Title': 'Venom',\n",
       " 'Type': 'movie',\n",
       " 'Website': 'N/A',\n",
       " 'Writer': \"Jeff Pinkner (screenplay by), Scott Rosenberg (screenplay by), Kelly Marcel (screenplay by), Jeff Pinkner (screen story by), Scott Rosenberg (screen story by), Todd McFarlane (Marvel's Venom Character created by), David Michelinie (Marvel's Venom Character created by)\",\n",
       " 'Year': '2018',\n",
       " 'imdbID': 'tt1270797',\n",
       " 'imdbRating': '6.7',\n",
       " 'imdbVotes': '331,555'}"
      ]
     },
     "execution_count": 610,
     "metadata": {},
     "output_type": "execute_result"
    }
   ],
   "source": [
    "get_movie_data(\"Venom\")"
   ]
  },
  {
   "cell_type": "markdown",
   "metadata": {},
   "source": [
    "#### Please copy the completed function from above into this active code window. Now write a function called get_movie_rating. It takes an OMDB dictionary result for one movie and extracts the Rotten Tomatoes rating as an integer. For example, if given the OMDB dictionary for “Black Panther”, it would return 97. If there is no Rotten Tomatoes rating, return 0."
   ]
  },
  {
   "cell_type": "code",
   "execution_count": 715,
   "metadata": {
    "collapsed": true
   },
   "outputs": [],
   "source": [
    "def get_movie_rating(get_movie_data):\n",
    "    ratings = get_movie_data['Ratings']\n",
    "    for rating in ratings:\n",
    "        if rating['Source'] == \"Rotten Tomatoes\":\n",
    "            rating_val = rating['Value']\n",
    "            rating_val = int(rating_val.strip('%'))\n",
    "            \n",
    "        elif rating['Source'] == \"Internet Movie Database\":\n",
    "            rating_val = 0\n",
    "            \n",
    "#         elif rating['Source'] == \"Metacritic\": # this part is not necessary\n",
    "#             rating_val = 0    \n",
    "            \n",
    "    return rating_val"
   ]
  },
  {
   "cell_type": "code",
   "execution_count": 716,
   "metadata": {},
   "outputs": [
    {
     "data": {
      "text/plain": [
       "84"
      ]
     },
     "execution_count": 716,
     "metadata": {},
     "output_type": "execute_result"
    }
   ],
   "source": [
    "get_movie_rating(get_movie_data(\"Deadpool 2\"))"
   ]
  },
  {
   "cell_type": "markdown",
   "metadata": {},
   "source": [
    "#### Now, you’ll put it all together. Don’t forget to copy all of the functions that you have previously defined into this code window. Define a function get_sorted_recommendations. It takes a list of movie titles as an input. It returns a sorted list of related movie titles as output, up to five related movies for each input movie title. The movies should be sorted in descending order by their Rotten Tomatoes rating, as returned by the get_movie_rating function. Break ties in reverse alphabetic order, so that ‘Yahşi Batı’ comes before ‘Eyyvah Eyvah’."
   ]
  },
  {
   "cell_type": "code",
   "execution_count": 894,
   "metadata": {},
   "outputs": [],
   "source": [
    "def get_movies_from_tastedive(movie):\n",
    "    key = \"373649-Nicolas-BC22791B\"\n",
    "    baseurl= \"https://tastedive.com/api/similar\"\n",
    "    parameters = {\"q\":movie, \"type\":\"movies\", \"limit\":5}  \n",
    "    resp = requests.get(baseurl, params = parameters)\n",
    "    data_results = json.loads(resp.text)\n",
    "    return data_results\n",
    "\n",
    "def extract_movie_titles(get_movies_from_tastedive):\n",
    "    movie_titles = get_movies_from_tastedive['Similar']['Results']\n",
    "    titles = []\n",
    "    for title in movie_titles:\n",
    "        titles.append(title['Name'])\n",
    "    return titles\n",
    "\n",
    "\n",
    "def get_related_titles(movie_list):\n",
    "    movies = movie_list\n",
    "    related_titles = []\n",
    "    for movie in movies:\n",
    "        recos = get_movies_from_tastedive(movie)\n",
    "        extract = extract_movie_titles(recos)\n",
    "        related_titles.extend(extract)\n",
    "    related_titles = list(set(related_titles)) \n",
    "    return related_titles\n",
    "\n",
    "\n",
    "### Section 2 functions:\n",
    "\n",
    "def get_movie_data(title):\n",
    "    key = '475a5069'\n",
    "    baseurl = 'http://www.omdbapi.com/?apikey=475a5069'\n",
    "    parameters = {'t':title, 'r': 'json'}\n",
    "    resp = requests.get(baseurl, params = parameters)\n",
    "    data_results = json.loads(resp.text)\n",
    "    return data_results\n",
    "\n",
    "def get_movie_rating(get_movie_data):\n",
    "    ratings = get_movie_data['Ratings']\n",
    "    for rating in ratings:\n",
    "        if rating['Source'] == \"Rotten Tomatoes\":\n",
    "            rating_val = rating['Value']\n",
    "            rating_val = int(rating_val.strip('%')) \n",
    "        elif rating['Source'] == \"Internet Movie Database\":\n",
    "            rating_val = 0  \n",
    "    return rating_val\n",
    "\n",
    "\n",
    "def get_sorted_recommendations(movie_list):\n",
    "    movie_list = movie_list\n",
    "    related_movies = get_related_titles(movie_list)\n",
    "    for movie in related_movies:\n",
    "        rating = get_movie_rating(get_movie_data(movie))\n",
    "        sort_ratings = sorted(related_movies, reverse = True, key = lambda movie: (get_movie_rating(get_movie_data(movie)), movie))   \n",
    "        print(\"{}: {}\".format(movie, rating))            \n",
    "    return sort_ratings"
   ]
  },
  {
   "cell_type": "markdown",
   "metadata": {},
   "source": [
    "##### Below testing all functions: To break ties, a second sorting is added into the lambda function\n",
    "#### lambda movie: (get_movie_rating(get_movie_data(movie)), movie)"
   ]
  },
  {
   "cell_type": "code",
   "execution_count": 895,
   "metadata": {},
   "outputs": [
    {
     "name": "stdout",
     "output_type": "stream",
     "text": [
      "Horrible Bosses: 69\n",
      "This Is 40: 52\n",
      "Easy A: 85\n",
      "Crazy, Stupid, Love.: 79\n",
      "What To Expect When You're Expecting: 23\n",
      "Underworld: 31\n",
      "Captain America: 7\n",
      "The Lord Of The Rings: 52\n",
      "Up!: 25\n",
      "Hitman: 0\n"
     ]
    },
    {
     "data": {
      "text/plain": [
       "['Easy A',\n",
       " 'Crazy, Stupid, Love.',\n",
       " 'Horrible Bosses',\n",
       " 'This Is 40',\n",
       " 'The Lord Of The Rings',\n",
       " 'Underworld',\n",
       " 'Up!',\n",
       " \"What To Expect When You're Expecting\",\n",
       " 'Captain America',\n",
       " 'Hitman']"
      ]
     },
     "execution_count": 895,
     "metadata": {},
     "output_type": "execute_result"
    }
   ],
   "source": [
    "get_sorted_recommendations([\"Bridesmaids\", \"Sherlock Holmes\"])"
   ]
  },
  {
   "cell_type": "code",
   "execution_count": 876,
   "metadata": {},
   "outputs": [
    {
     "data": {
      "text/plain": [
       "['Horrible Bosses',\n",
       " 'This Is 40',\n",
       " 'Easy A',\n",
       " 'Crazy, Stupid, Love.',\n",
       " \"What To Expect When You're Expecting\",\n",
       " 'Underworld',\n",
       " 'Captain America',\n",
       " 'The Lord Of The Rings',\n",
       " 'Up!',\n",
       " 'Hitman']"
      ]
     },
     "execution_count": 876,
     "metadata": {},
     "output_type": "execute_result"
    }
   ],
   "source": [
    "get_sorted_recommendations([\"Bridesmaids\", \"Sherlock Holmes\"])"
   ]
  },
  {
   "cell_type": "code",
   "execution_count": 899,
   "metadata": {},
   "outputs": [
    {
     "name": "stdout",
     "output_type": "stream",
     "text": [
      "Mulholland Drive: 83\n",
      "Dogville: 70\n",
      "The Shape Of Water: 92\n",
      "I, Tonya: 89\n",
      "Blue Velvet: 93\n",
      "Three Billboards Outside Ebbing, Missouri: 90\n",
      "The Florida Project: 96\n",
      "Eyes Wide Shut: 75\n",
      "Antichrist: 53\n",
      "Lady Bird: 99\n"
     ]
    },
    {
     "data": {
      "text/plain": [
       "['Lady Bird',\n",
       " 'The Florida Project',\n",
       " 'Blue Velvet',\n",
       " 'The Shape Of Water',\n",
       " 'Three Billboards Outside Ebbing, Missouri',\n",
       " 'I, Tonya',\n",
       " 'Mulholland Drive',\n",
       " 'Eyes Wide Shut',\n",
       " 'Dogville',\n",
       " 'Antichrist']"
      ]
     },
     "execution_count": 899,
     "metadata": {},
     "output_type": "execute_result"
    }
   ],
   "source": [
    "get_sorted_recommendations([\"Dancer in the dark\", \"Call me by your name\"])"
   ]
  },
  {
   "cell_type": "markdown",
   "metadata": {},
   "source": [
    "### ANSWERS with requests_with_caching"
   ]
  },
  {
   "cell_type": "code",
   "execution_count": null,
   "metadata": {
    "collapsed": true
   },
   "outputs": [],
   "source": [
    "import requests_with_caching\n",
    "import json\n",
    "\n",
    "def get_movies_from_tastedive(movie):\n",
    "    baseurl= \"https://tastedive.com/api/similar\"\n",
    "    parameters = {}\n",
    "    parameters[\"q\"] = movie\n",
    "    parameters[\"type\"] = \"movies\"\n",
    "    parameters[\"limit\"] = \"5\"\n",
    "    resp = requests_with_caching.get(baseurl, params = parameters)\n",
    "    py_data = json.loads(resp.text)\n",
    "    return py_data\n",
    "\n",
    "\n",
    "# some invocations that we use in the automated tests; uncomment these if you are getting errors and want better error messages\n",
    "# get_movies_from_tastedive(\"Bridesmaids\")\n",
    "get_movies_from_tastedive(\"Black Panther\")\n",
    "\n",
    "\n"
   ]
  },
  {
   "cell_type": "code",
   "execution_count": null,
   "metadata": {
    "collapsed": true
   },
   "outputs": [],
   "source": [
    "def get_movies_from_tastedive(movie):\n",
    "    key = \"373649-Nicolas-BC22791B\"\n",
    "    baseurl= \"https://tastedive.com/api/similar\"\n",
    "    parameters = {\"q\":movie, \"type\":\"movies\", \"limit\":5}  \n",
    "    resp = requests_with_caching.get(baseurl, params = parameters)\n",
    "    data_results = json.loads(resp.text)\n",
    "    return data_results\n",
    "\n",
    "def extract_movie_titles(get_movies_from_tastedive):\n",
    "    movie_titles = get_movies_from_tastedive['Similar']['Results']\n",
    "    movies = []\n",
    "    for title in movie_titles:\n",
    "        movies.append(title['Name'])\n",
    "    return movies"
   ]
  },
  {
   "cell_type": "code",
   "execution_count": null,
   "metadata": {
    "collapsed": true
   },
   "outputs": [],
   "source": [
    "def get_movies_from_tastedive(movie):\n",
    "    key = \"373649-Nicolas-BC22791B\"\n",
    "    baseurl= \"https://tastedive.com/api/similar\"\n",
    "    parameters = {\"q\":movie, \"type\":\"movies\", \"limit\":5}  \n",
    "    resp = requests_with_caching.get(baseurl, params = parameters)\n",
    "    data_results = json.loads(resp.text)\n",
    "    return data_results\n",
    "\n",
    "def extract_movie_titles(get_movies_from_tastedive):\n",
    "    movie_titles = get_movies_from_tastedive['Similar']['Results']\n",
    "    movies = []\n",
    "    for title in movie_titles:\n",
    "        movies.append(title['Name'])\n",
    "    return movies\n",
    "\n",
    "def get_related_titles(movie_list):\n",
    "    movies = movie_list\n",
    "    related_titles = []\n",
    "    for movie in movies:\n",
    "        recos = get_movies_from_tastedive(movie)\n",
    "        extract = extract_movie_titles(recos)\n",
    "        related_titles.extend(extract)\n",
    "    related_titles = list(set(related_titles)) \n",
    "    return related_titles"
   ]
  },
  {
   "cell_type": "code",
   "execution_count": null,
   "metadata": {
    "collapsed": true
   },
   "outputs": [],
   "source": [
    "import json\n",
    "import requests_with_caching\n",
    "\n",
    "def get_movie_data(title):\n",
    "    baseurl = 'http://www.omdbapi.com/'\n",
    "    parameters = {'t': title, 'r': 'json'}\n",
    "    resp = requests_with_caching.get(baseurl, params = parameters)\n",
    "    return json.loads(resp.text)"
   ]
  },
  {
   "cell_type": "code",
   "execution_count": null,
   "metadata": {
    "collapsed": true
   },
   "outputs": [],
   "source": [
    "def get_movie_data(title):\n",
    "    baseurl = 'http://www.omdbapi.com/'\n",
    "    parameters = {'t': title, 'r': 'json'}\n",
    "    resp = requests_with_caching.get(baseurl, params = parameters)\n",
    "    return json.loads(resp.text)\n",
    "\n",
    "def get_movie_rating(get_movie_data):\n",
    "    ratings = get_movie_data['Ratings']\n",
    "    for rating in ratings:\n",
    "        if rating['Source'] == \"Rotten Tomatoes\":\n",
    "            rating_val = rating['Value']\n",
    "            rating_val = int(rating_val.strip('%'))\n",
    "            \n",
    "        elif rating['Source'] == \"Internet Movie Database\":\n",
    "            rating_val = 0\n",
    "            \n",
    "    return rating_val"
   ]
  },
  {
   "cell_type": "code",
   "execution_count": null,
   "metadata": {
    "collapsed": true
   },
   "outputs": [],
   "source": [
    "### final\n",
    "\n",
    "import json\n",
    "import requests_with_caching\n",
    "\n",
    "def get_movies_from_tastedive(movie):\n",
    "    key = \"373649-Nicolas-BC22791B\"\n",
    "    baseurl= \"https://tastedive.com/api/similar\"\n",
    "    parameters = {\"q\":movie, \"type\":\"movies\", \"limit\":5}  \n",
    "    resp = requests_with_caching.get(baseurl, params = parameters)\n",
    "    data_results = json.loads(resp.text)\n",
    "    return data_results\n",
    "\n",
    "def extract_movie_titles(get_movies_from_tastedive):\n",
    "    movie_titles = get_movies_from_tastedive['Similar']['Results']\n",
    "    titles = []\n",
    "    for title in movie_titles:\n",
    "        titles.append(title['Name'])\n",
    "    return titles\n",
    "\n",
    "\n",
    "def get_related_titles(movie_list):\n",
    "    movies = movie_list\n",
    "    related_titles = []\n",
    "    for movie in movies:\n",
    "        recos = get_movies_from_tastedive(movie)\n",
    "        extract = extract_movie_titles(recos)\n",
    "        related_titles.extend(extract)\n",
    "    related_titles = list(set(related_titles)) \n",
    "    return related_titles\n",
    "\n",
    "\n",
    "### Section 2 functions:\n",
    "\n",
    "def get_movie_data(title):\n",
    "    baseurl = 'http://www.omdbapi.com/'\n",
    "    parameters = {'t': title, 'r': 'json'}\n",
    "    resp = requests_with_caching.get(baseurl, params = parameters)\n",
    "    return json.loads(resp.text)\n",
    "\n",
    "def get_movie_rating(get_movie_data):\n",
    "    ratings = get_movie_data['Ratings']\n",
    "    for rating in ratings:\n",
    "        if rating['Source'] == \"Rotten Tomatoes\":\n",
    "            rating_val = rating['Value']\n",
    "            rating_val = int(rating_val.strip('%')) \n",
    "        elif rating['Source'] == \"Internet Movie Database\":\n",
    "            rating_val = 0  \n",
    "    return rating_val\n",
    "\n",
    "\n",
    "def get_sorted_recommendations(movie_list):\n",
    "    movie_list = movie_list\n",
    "    related_movies = get_related_titles(movie_list)\n",
    "    for movie in related_movies:\n",
    "        rating = get_movie_rating(get_movie_data(movie))\n",
    "        sort_ratings = sorted(related_movies, reverse, True ,key = lambda movie: (get_movie_rating(get_movie_data(movie)), movie))\n",
    "    return sort_ratings\n",
    "# some invocations that we use in the automated tests; uncomment these if you are getting errors and want better error messages\n",
    "get_sorted_recommendations([\"Bridesmaids\", \"Sherlock Holmes\"])\n"
   ]
  },
  {
   "cell_type": "code",
   "execution_count": null,
   "metadata": {
    "collapsed": true
   },
   "outputs": [],
   "source": [
    "### Below the actual & expected results."
   ]
  },
  {
   "cell_type": "code",
   "execution_count": null,
   "metadata": {
    "collapsed": true
   },
   "outputs": [],
   "source": [
    "['Date Night', 'The Heat', 'Baby Mama', 'The Five-Year Engagement', 'Sherlock Holmes: A Game Of Shadows', 'Bachelorette', 'Prince Of Persia: The Sands Of Time', 'Pirates Of The Caribbean: On Stranger Tides', 'Eyyvah Eyvah', 'Yahşi Batı']\n",
    "['Date Night', 'The Heat', 'Baby Mama', 'The Five-Year Engagement', 'Sherlock Holmes: A Game Of Shadows', 'Bachelorette', 'Prince Of Persia: The Sands Of Time', 'Pirates Of The Caribbean: On Stranger Tides', 'Yahşi Batı', 'Eyyvah Eyvah']"
   ]
  }
 ],
 "metadata": {
  "kernelspec": {
   "display_name": "Python 3",
   "language": "python",
   "name": "python3"
  },
  "language_info": {
   "codemirror_mode": {
    "name": "ipython",
    "version": 3
   },
   "file_extension": ".py",
   "mimetype": "text/x-python",
   "name": "python",
   "nbconvert_exporter": "python",
   "pygments_lexer": "ipython3",
   "version": "3.6.7"
  }
 },
 "nbformat": 4,
 "nbformat_minor": 2
}
