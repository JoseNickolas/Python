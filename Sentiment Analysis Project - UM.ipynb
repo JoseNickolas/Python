{
 "cells": [
  {
   "cell_type": "markdown",
   "metadata": {},
   "source": [
    "#### To start, define a function called strip_punctuation which takes one parameter, a string which represents a word, and removes characters considered punctuation from everywhere in the word. (Hint: remember the .replace() method for strings.)"
   ]
  },
  {
   "cell_type": "code",
   "execution_count": 134,
   "metadata": {},
   "outputs": [],
   "source": [
    "punctuation_chars = [\"'\", '\"', \",\", \".\", \"!\", \":\", \";\", '#', '@']\n",
    "\n",
    "def strip_punctuation(w):\n",
    "    for x in punctuation_chars:\n",
    "        w = w.replace(x, '')\n",
    "    return w"
   ]
  },
  {
   "cell_type": "markdown",
   "metadata": {},
   "source": [
    "#### Next, copy in your strip_punctuation function and define a function called get_pos which takes one parameter, a string which represents one or more sentences, and calculates how many words in the string are considered positive words. Use the list, positive_words to determine what words will count as positive. The function should return a positive integer - how many occurrences there are of positive words in the text. Note that all of the words in positive_words are lower cased, so you’ll need to convert all the words in the input string to lower case as well."
   ]
  },
  {
   "cell_type": "code",
   "execution_count": 147,
   "metadata": {},
   "outputs": [
    {
     "name": "stdout",
     "output_type": "stream",
     "text": [
      "2\n"
     ]
    }
   ],
   "source": [
    "# Test on the sentence below\n",
    "s = \"what a truly wonderful day it is today incredible\"\n",
    "s = s.split()\n",
    "pos_wrds = ['wonderful', 'incredible']\n",
    "\n",
    "ct = 0\n",
    "for w in s:\n",
    "    if w in pos_wrds:\n",
    "        ct+= 1\n",
    "print(ct)"
   ]
  },
  {
   "cell_type": "code",
   "execution_count": 165,
   "metadata": {},
   "outputs": [
    {
     "name": "stdout",
     "output_type": "stream",
     "text": [
      "what\n",
      "a\n",
      "truly\n",
      "wonderful\n",
      "day\n",
      "it\n",
      "is\n",
      "today\n",
      "incredible\n",
      "2\n"
     ]
    }
   ],
   "source": [
    "punctuation_chars = [\"'\", '\"', \",\", \".\", \"!\", \":\", \";\", '#', '@']\n",
    "\n",
    "def strip_punctuation(w):\n",
    "    for x in punctuation_chars:\n",
    "        w = w.replace(x, '')\n",
    "    return w\n",
    "\n",
    "\n",
    "pos_wrds = ['wonderful', 'incredible']\n",
    "\n",
    "def get_pos(s):\n",
    "    s = s.lower().split()\n",
    "    ct = 0\n",
    "    for w in s:\n",
    "        w = strip_punctuation(w)\n",
    "        print(w)\n",
    "        if w in pos_wrds:\n",
    "            ct += 1\n",
    "    return ct\n",
    "\n",
    "\n",
    "# test functions\n",
    "\n",
    "s = \"what a truly wonderful day it is today! #incredible\"\n",
    "\n",
    "print(get_pos(s))"
   ]
  },
  {
   "cell_type": "markdown",
   "metadata": {},
   "source": [
    "#### Next, copy in your strip_punctuation function and define a function called get_neg which takes one parameter, a string which represents one or more sentences, and calculates how many words in the string are considered negative words. Use the list, negative_words to determine what words will count as negative. The function should return a positive integer - how many occurrences there are of negative words in the text. Note that all of the words in negative_words are lower cased, so you’ll need to convert all the words in the input string to lower case as well."
   ]
  },
  {
   "cell_type": "code",
   "execution_count": 166,
   "metadata": {
    "collapsed": true
   },
   "outputs": [],
   "source": [
    "punctuation_chars = [\"'\", '\"', \",\", \".\", \"!\", \":\", \";\", '#', '@']\n",
    "\n",
    "def strip_punctuation(w):\n",
    "    for x in punctuation_chars:\n",
    "        w = w.replace(x, '')\n",
    "    return w\n",
    "\n",
    "def get_neg(s):\n",
    "    s = s.lower().split()\n",
    "    ct = 0\n",
    "    for w in s:\n",
    "        w = strip_punctuation(w)\n",
    "        if w in negative_words:\n",
    "            ct += 1\n",
    "    return ct"
   ]
  },
  {
   "cell_type": "markdown",
   "metadata": {},
   "source": [
    "#### Finally, copy in your previous functions and write code that opens the file project_twitter_data.csv which has the fake generated twitter data (the text of a tweet, the number of retweets of that tweet, and the number of replies to that tweet). Your task is to build a sentiment classifier, which will detect how positive or negative each tweet is. Copy the code from the code windows above, and put that in the top of this code window. Now, you will write code to create a csv file called resulting_data.csv, which contains the Number of Retweets, Number of Replies, Positive Score (which is how many happy words are in the tweet), Negative Score (which is how many angry words are in the tweet), and the Net Score (how positive or negative the text is overall) for each tweet. The file should have those headers in that order. Remember that there is another component to this project. You will upload the csv file to Excel or Google Sheets and produce a graph of the Net Score vs Number of Retweets. Check Coursera for that portion of the assignment, if you’re accessing this textbook from Coursera."
   ]
  },
  {
   "cell_type": "code",
   "execution_count": 239,
   "metadata": {},
   "outputs": [],
   "source": [
    "## Final \n",
    "\n",
    "def strip_punctuation(w):\n",
    "    for x in punctuation_chars:\n",
    "        w = w.replace(x, '')\n",
    "    return w\n",
    "            \n",
    "def get_pos(s):\n",
    "    s = s.lower().split()\n",
    "    ct = 0\n",
    "    for w in s:\n",
    "        w = strip_punctuation(w)\n",
    "        if w in positive_words:\n",
    "            ct += 1\n",
    "    return ct\n",
    "\n",
    "def get_neg(s):\n",
    "    s = s.lower().split()\n",
    "    ct = 0\n",
    "    for w in s:\n",
    "        w = strip_punctuation(w)\n",
    "        if w in negative_words:\n",
    "            ct += 1\n",
    "    return ct\n",
    "\n",
    "\n",
    "punctuation_chars = [\"'\", '\"', \",\", \".\", \"!\", \":\", \";\", '#', '@']\n",
    "# lists of words to use\n",
    "positive_words = []\n",
    "with open(\"positive_words.txt\") as pos_f:\n",
    "    for lin in pos_f:\n",
    "        if lin[0] != ';' and lin[0] != '\\n':\n",
    "            positive_words.append(lin.strip())\n",
    "\n",
    "\n",
    "negative_words = []\n",
    "with open(\"negative_words.txt\") as pos_f:\n",
    "    for lin in pos_f:\n",
    "        if lin[0] != ';' and lin[0] != '\\n':\n",
    "            negative_words.append(lin.strip())\n",
    "\n",
    "#project tweeter data file\n",
    "\n",
    "#to write the file and results\n",
    "data_results = open('resulting_data.csv', 'w')\n",
    "\n",
    "# .write takes only one argument, so the four cols need to be in quotation marks\n",
    "data_results.write('Number of Retweets, Number of Replies, Positive Score, Negative Score, Net Score')\n",
    "\n",
    "data_results.write('\\n')\n",
    "\n",
    "with open(\"sentiment_project.csv\") as f: \n",
    "    lines =  f.readlines()\n",
    "    header= lines.pop(0)\n",
    "#     print(lines)\n",
    "    for line in lines:\n",
    "        line = line.strip().split(',')\n",
    "#         print(line)\n",
    "        tw_text = line[0]\n",
    "#         print(tw_text)\n",
    "        nums_rtws = line[1]\n",
    "        #print(nums_rtws)\n",
    "        nums_reps = line[2]\n",
    "        #print(nums_reps)\n",
    "        pos_score = get_pos(tw_text)\n",
    "        #print(pos_score)\n",
    "        neg_score = get_neg(tw_text)\n",
    "        #print(neg_score)\n",
    "        tot_score = pos_score - neg_score\n",
    "        #print(tot_score)\n",
    "        #data_results.write(str(nums_rtws)+ ',' + str(\n",
    "        data_results.write('{},{},{},{},{}'.format(nums_rtws, nums_reps, pos_score, neg_score, tot_score))\n",
    "    \n",
    "        data_results.write('\\n')"
   ]
  },
  {
   "cell_type": "code",
   "execution_count": null,
   "metadata": {
    "collapsed": true
   },
   "outputs": [],
   "source": []
  }
 ],
 "metadata": {
  "kernelspec": {
   "display_name": "Python 3",
   "language": "python",
   "name": "python3"
  },
  "language_info": {
   "codemirror_mode": {
    "name": "ipython",
    "version": 3
   },
   "file_extension": ".py",
   "mimetype": "text/x-python",
   "name": "python",
   "nbconvert_exporter": "python",
   "pygments_lexer": "ipython3",
   "version": "3.6.7"
  }
 },
 "nbformat": 4,
 "nbformat_minor": 2
}
