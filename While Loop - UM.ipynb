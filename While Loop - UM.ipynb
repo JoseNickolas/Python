{
 "cells": [
  {
   "cell_type": "markdown",
   "metadata": {},
   "source": [
    "#### Write a while loop that is initialized at 0 and stops at 15. If the counter is an even number, append the counter to a list called eve_nums."
   ]
  },
  {
   "cell_type": "code",
   "execution_count": 1,
   "metadata": {},
   "outputs": [
    {
     "data": {
      "text/plain": [
       "[0, 2, 4, 6, 8, 10, 12, 14]"
      ]
     },
     "execution_count": 1,
     "metadata": {},
     "output_type": "execute_result"
    }
   ],
   "source": [
    "i = 0\n",
    "eve_nums = []\n",
    "\n",
    "while i <= 15:\n",
    "    if (i % 2 == 0):\n",
    "        eve_nums.append(i)\n",
    "    i += 1\n",
    "eve_nums"
   ]
  },
  {
   "cell_type": "markdown",
   "metadata": {},
   "source": [
    "#### Below, we’ve provided a for loop that sums all the elements of list1. Write code that accomplishes the same task, but instead uses a while loop. Assign the accumulator variable to the name accum."
   ]
  },
  {
   "cell_type": "code",
   "execution_count": 2,
   "metadata": {},
   "outputs": [
    {
     "data": {
      "text/plain": [
       "42"
      ]
     },
     "execution_count": 2,
     "metadata": {},
     "output_type": "execute_result"
    }
   ],
   "source": [
    "list1 = [8, 3, 4, 5, 6, 7, 9]\n",
    "\n",
    "tot = 0\n",
    "for elem in list1:\n",
    "    tot = tot + elem\n",
    "tot"
   ]
  },
  {
   "cell_type": "code",
   "execution_count": 3,
   "metadata": {},
   "outputs": [
    {
     "name": "stdout",
     "output_type": "stream",
     "text": [
      "8\n",
      "11\n",
      "15\n",
      "20\n",
      "26\n",
      "33\n",
      "42\n"
     ]
    },
    {
     "data": {
      "text/plain": [
       "42"
      ]
     },
     "execution_count": 3,
     "metadata": {},
     "output_type": "execute_result"
    }
   ],
   "source": [
    "# With a for loop\n",
    "list1 = [8, 3, 4, 5, 6, 7, 9]\n",
    "\n",
    "accum = 0\n",
    "\n",
    "for num in list1:\n",
    "    accum += num\n",
    "    print(accum)\n",
    "accum"
   ]
  },
  {
   "cell_type": "code",
   "execution_count": 4,
   "metadata": {},
   "outputs": [
    {
     "name": "stdout",
     "output_type": "stream",
     "text": [
      "8\n",
      "11\n",
      "15\n",
      "20\n",
      "26\n",
      "33\n",
      "42\n"
     ]
    },
    {
     "data": {
      "text/plain": [
       "42"
      ]
     },
     "execution_count": 4,
     "metadata": {},
     "output_type": "execute_result"
    }
   ],
   "source": [
    "list1 = [8, 3, 4, 5, 6, 7, 9]\n",
    "\n",
    "tot = 0\n",
    "i = 0\n",
    "while i < len(list1):\n",
    "    tot += list1[i]\n",
    "    i+= 1\n",
    "    print(tot)\n",
    "tot"
   ]
  },
  {
   "cell_type": "markdown",
   "metadata": {},
   "source": [
    "#### Write a function called stop_at_four that iterates through a list of numbers. Using a while loop, append each number to a new list until the number 4 appears. The function should return the new list."
   ]
  },
  {
   "cell_type": "code",
   "execution_count": 5,
   "metadata": {},
   "outputs": [
    {
     "data": {
      "text/plain": [
       "[1, 2]"
      ]
     },
     "execution_count": 5,
     "metadata": {},
     "output_type": "execute_result"
    }
   ],
   "source": [
    "# test with any list\n",
    "\n",
    "x = [1,2,4,5,9]\n",
    "\n",
    "new_list = []\n",
    "i = 0\n",
    "\n",
    "while i < len(x):\n",
    "    if x[i] == 4:\n",
    "        new_list.extend(x[:i])\n",
    "        break\n",
    "    i += 1\n",
    "    \n",
    "else:\n",
    "    new_list.extend(x)\n",
    "\n",
    "new_list"
   ]
  },
  {
   "cell_type": "code",
   "execution_count": 6,
   "metadata": {
    "collapsed": true
   },
   "outputs": [],
   "source": [
    "def stop_at_four(x):\n",
    "    \n",
    "    new_list = []\n",
    "    i = 0\n",
    "\n",
    "    while i < len(x):\n",
    "        if x[i] == 4:\n",
    "            new_list.extend(x[:i])\n",
    "            break\n",
    "        i += 1\n",
    "    \n",
    "    else:\n",
    "        new_list.extend(x)\n",
    "    \n",
    "    return new_list"
   ]
  },
  {
   "cell_type": "code",
   "execution_count": 7,
   "metadata": {},
   "outputs": [
    {
     "data": {
      "text/plain": [
       "[1, 2, 3, 5]"
      ]
     },
     "execution_count": 7,
     "metadata": {},
     "output_type": "execute_result"
    }
   ],
   "source": [
    "stop_at_four([1,2,3,5,4])"
   ]
  },
  {
   "cell_type": "code",
   "execution_count": 8,
   "metadata": {},
   "outputs": [
    {
     "data": {
      "text/plain": [
       "[1, 2, 3, 5, 9]"
      ]
     },
     "execution_count": 8,
     "metadata": {},
     "output_type": "execute_result"
    }
   ],
   "source": [
    "stop_at_four([1,2,3,5,9])"
   ]
  },
  {
   "cell_type": "markdown",
   "metadata": {},
   "source": [
    "#### Other exercises"
   ]
  },
  {
   "cell_type": "code",
   "execution_count": 9,
   "metadata": {},
   "outputs": [
    {
     "name": "stdout",
     "output_type": "stream",
     "text": [
      "We're incrementing x\n",
      "We're incrementing x\n",
      "We're incrementing x\n",
      "The value of x is:  15\n"
     ]
    }
   ],
   "source": [
    "x = 0\n",
    "while x < 10:\n",
    "    print(\"We're incrementing x\")\n",
    "    if x % 2 == 0:\n",
    "        x += 3\n",
    "        continue\n",
    "    if x % 3 == 0:\n",
    "        x += 5\n",
    "    x += 1\n",
    "print(\"The value of x is: \", str(x))"
   ]
  },
  {
   "cell_type": "markdown",
   "metadata": {},
   "source": [
    "### FINAL TEST"
   ]
  },
  {
   "cell_type": "markdown",
   "metadata": {},
   "source": [
    "#### Write a function, sublist, that takes in a list of numbers as the parameter. In the function, use a while loop to return a sublist of the input list. The sublist should contain the same values of the original list up until it reaches the number 5 (it should not contain the number 5)."
   ]
  },
  {
   "cell_type": "code",
   "execution_count": 10,
   "metadata": {},
   "outputs": [
    {
     "data": {
      "text/plain": [
       "[1, 2, 3, 4, 9]"
      ]
     },
     "execution_count": 10,
     "metadata": {},
     "output_type": "execute_result"
    }
   ],
   "source": [
    "x = [1, 2, 3, 4, 9, 6, 7, 8]\n",
    "\n",
    "sub_list = []\n",
    "i = 0\n",
    "\n",
    "while i < len(x):\n",
    "    if x[i] == 5:\n",
    "        sub_list.extend(x[:i])\n",
    "        break\n",
    "    i += 1\n",
    "else:\n",
    "    sub_list.extend(x[0:5])\n",
    "sub_list"
   ]
  },
  {
   "cell_type": "code",
   "execution_count": 11,
   "metadata": {
    "collapsed": true
   },
   "outputs": [],
   "source": [
    "def sublist(x):\n",
    "    sub_list = []\n",
    "    i = 0\n",
    "    \n",
    "    while i < len(x):\n",
    "        if x[i] == 5:\n",
    "            sub_list.extend(x[:i])\n",
    "            break\n",
    "        i += 1\n",
    "    else:\n",
    "        sub_list.extend(x[0:5])\n",
    "    \n",
    "    return sub_list"
   ]
  },
  {
   "cell_type": "code",
   "execution_count": 12,
   "metadata": {},
   "outputs": [
    {
     "data": {
      "text/plain": [
       "[1, 2, 3, 4, 9]"
      ]
     },
     "execution_count": 12,
     "metadata": {},
     "output_type": "execute_result"
    }
   ],
   "source": [
    "sublist([1, 2, 3, 4, 9, 6, 7, 8])"
   ]
  },
  {
   "cell_type": "markdown",
   "metadata": {},
   "source": [
    "#### Write a function called check_nums that takes a list as its parameter, and contains a while loop that only stops once the element of the list is the number 7. What is returned is a list of all of the numbers up until it reaches 7."
   ]
  },
  {
   "cell_type": "code",
   "execution_count": 21,
   "metadata": {},
   "outputs": [
    {
     "data": {
      "text/plain": [
       "[1, 6, 2, 3]"
      ]
     },
     "execution_count": 21,
     "metadata": {},
     "output_type": "execute_result"
    }
   ],
   "source": [
    "x = [1, 6, 2, 3, 7]\n",
    "\n",
    "new_list = []\n",
    "i = 0\n",
    "    \n",
    "while i < len(x):\n",
    "    if x[i] == 7:\n",
    "        new_list.extend(x[:i])\n",
    "        break\n",
    "    i += 1\n",
    "else:\n",
    "    new_list.extend(x)\n",
    "    \n",
    "new_list"
   ]
  },
  {
   "cell_type": "code",
   "execution_count": 214,
   "metadata": {
    "collapsed": true
   },
   "outputs": [],
   "source": [
    "def check_nums(x):\n",
    "    new_list = []\n",
    "    i = 0\n",
    "    \n",
    "    while i < len(x):\n",
    "        if x[i] == 7:\n",
    "            new_list.extend(x[:i])\n",
    "            break\n",
    "        i += 1\n",
    "        \n",
    "    else:\n",
    "        new_list.extend(x)\n",
    "    \n",
    "    return new_list"
   ]
  },
  {
   "cell_type": "markdown",
   "metadata": {},
   "source": [
    "#### Write a function, sublist, that takes in a list of strings as the parameter. In the function, use a while loop to return a sublist of the input list. The sublist should contain the same values of the original list up until it reaches the string “STOP” (it should not contain the string “STOP”)."
   ]
  },
  {
   "cell_type": "code",
   "execution_count": 23,
   "metadata": {},
   "outputs": [
    {
     "data": {
      "text/plain": [
       "['puma', 'dos', 'love']"
      ]
     },
     "execution_count": 23,
     "metadata": {},
     "output_type": "execute_result"
    }
   ],
   "source": [
    "x = ['puma', 'dos', 'love', 'STOP', 'josita']\n",
    "\n",
    "new_list = []\n",
    "i = 0\n",
    "    \n",
    "while i < len(x):\n",
    "    if x[i] == 'STOP':\n",
    "        new_list.extend(x[:i])\n",
    "        break\n",
    "    i += 1\n",
    "else:\n",
    "    new_list.extend(x)\n",
    "    \n",
    "new_list"
   ]
  },
  {
   "cell_type": "code",
   "execution_count": 215,
   "metadata": {
    "collapsed": true
   },
   "outputs": [],
   "source": [
    "def sublist(x):\n",
    "    \n",
    "    new_list = []\n",
    "    i = 0\n",
    "    \n",
    "    while i < len(x):\n",
    "        if x[i] == 'STOP':\n",
    "            new_list.extend(x[:i])\n",
    "            break\n",
    "        i += 1\n",
    "        \n",
    "    else:\n",
    "        new_list.extend(x)\n",
    "    \n",
    "    return new_list"
   ]
  },
  {
   "cell_type": "markdown",
   "metadata": {},
   "source": [
    "#### Write a function called stop_at_z that iterates through a list of strings. Using a while loop, append each string to a new list until the string that appears is “z”. The function should return the new list."
   ]
  },
  {
   "cell_type": "code",
   "execution_count": 25,
   "metadata": {},
   "outputs": [
    {
     "data": {
      "text/plain": [
       "['puma', 'dos', 'love', 'josita']"
      ]
     },
     "execution_count": 25,
     "metadata": {},
     "output_type": "execute_result"
    }
   ],
   "source": [
    "x = ['puma', 'dos', 'love', 'josita', 'z']\n",
    "\n",
    "new_str = []\n",
    "i = 0\n",
    "\n",
    "while i < len(x):\n",
    "    if x[i] == 'z':\n",
    "        new_str.extend(x[:i])\n",
    "        break\n",
    "    i += 1\n",
    "    \n",
    "else:\n",
    "    new_str.extend(x)\n",
    "\n",
    "new_str"
   ]
  },
  {
   "cell_type": "code",
   "execution_count": 216,
   "metadata": {
    "collapsed": true
   },
   "outputs": [],
   "source": [
    "def stop_at_z(x):\n",
    "    \n",
    "    new_str = []\n",
    "    i = 0\n",
    "\n",
    "    while i < len(x):\n",
    "        if x[i] == 'z':\n",
    "            new_str.extend(x[:i])\n",
    "            break\n",
    "        i += 1\n",
    "    \n",
    "    else:\n",
    "        new_str.extend(x)\n",
    "    \n",
    "    return new_str"
   ]
  },
  {
   "cell_type": "markdown",
   "metadata": {},
   "source": [
    "#### Below is a for loop that works. Underneath the for loop, rewrite the problem so that it does the same thing, but using a while loop instead of a for loop. Assign the accumulated total in the while loop code to the variable sum2. Once complete, sum2 should equal sum1."
   ]
  },
  {
   "cell_type": "code",
   "execution_count": 26,
   "metadata": {},
   "outputs": [
    {
     "data": {
      "text/plain": [
       "197"
      ]
     },
     "execution_count": 26,
     "metadata": {},
     "output_type": "execute_result"
    }
   ],
   "source": [
    "sum1 = 0\n",
    "\n",
    "lst = [65, 78, 21, 33]\n",
    "\n",
    "for x in lst:\n",
    "    sum1 = sum1 + x\n",
    "sum1"
   ]
  },
  {
   "cell_type": "code",
   "execution_count": 27,
   "metadata": {},
   "outputs": [
    {
     "data": {
      "text/plain": [
       "197"
      ]
     },
     "execution_count": 27,
     "metadata": {},
     "output_type": "execute_result"
    }
   ],
   "source": [
    "sum2 = 0\n",
    "i = 0\n",
    "\n",
    "lst = [65, 78, 21, 33]\n",
    "\n",
    "while i < len(lst):\n",
    "    sum2 += lst[i]\n",
    "    i += 1\n",
    "sum2"
   ]
  },
  {
   "cell_type": "markdown",
   "metadata": {},
   "source": [
    "#### Challenge: Write a function called beginning that takes a list as input and contains a while loop that only stops once the element of the list is the string ‘bye’. What is returned is a list that contains up to the first 10 strings, regardless of where the loop stops. (i.e., if it stops on the 32nd element, the first 10 are returned. If “bye” is the 5th element, the first 4 are returned.) If you want to make this even more of a challenge, do this without slicing"
   ]
  },
  {
   "cell_type": "code",
   "execution_count": 218,
   "metadata": {},
   "outputs": [
    {
     "data": {
      "text/plain": [
       "['water', 'phone', 'home', 'chapstick', 'market', 'headphones']"
      ]
     },
     "execution_count": 218,
     "metadata": {},
     "output_type": "execute_result"
    }
   ],
   "source": [
    "## Final sol\n",
    "\n",
    "x = ['water', 'phone', 'home', 'chapstick', 'market', 'headphones', 'bye', 'stickie notes', 'snapchat', 'facebook', 'social media']\n",
    "\n",
    "# List to test\n",
    "#x = ['bye', 'no', 'yes', 'maybe', 'sorta']\n",
    "\n",
    "# List to test\n",
    "#x = ['hello', 'hi', 'hiyah', 'howdy', 'what up', 'whats good', 'holla', 'good afternoon', 'good morning', 'sup', 'see yah', 'toodel loo', 'night', 'until later', 'peace', 'bye', 'good-bye', 'g night']\n",
    "\n",
    "new_list = []\n",
    "i = 0\n",
    "\n",
    "while i < len(x):\n",
    "    \n",
    "    if x[i] == 'bye':\n",
    "        new_list.extend(x[:i])\n",
    "        break\n",
    "    i += 1\n",
    "        \n",
    "    if i < len(x) & len(x) < 10:\n",
    "        if x[i] == 'bye':\n",
    "            new_list.extend(x[0:10])\n",
    "            break \n",
    "    i += 1\n",
    "    \n",
    "else:\n",
    "    new_list.extend(x[0:10])\n",
    "        \n",
    "    \n",
    "    \n",
    "new_list"
   ]
  },
  {
   "cell_type": "code",
   "execution_count": 219,
   "metadata": {},
   "outputs": [],
   "source": [
    "def beginning(x):\n",
    "    \n",
    "    new_list = []\n",
    "    i = 0\n",
    "\n",
    "    while i < len(x):\n",
    "        if x[i] == 'bye':\n",
    "            new_list.extend(x[:i])\n",
    "            break\n",
    "        i += 1\n",
    "        \n",
    "        if i < len(x) & len(x) < 10:\n",
    "            if x[i] == 'bye':\n",
    "                new_list.extend(x[0:10])\n",
    "                break \n",
    "        i += 1\n",
    "    \n",
    "    else:\n",
    "        new_list.extend(x[0:10])\n",
    "    \n",
    "    return new_list"
   ]
  },
  {
   "cell_type": "code",
   "execution_count": 220,
   "metadata": {},
   "outputs": [
    {
     "data": {
      "text/plain": [
       "['hello',\n",
       " 'hi',\n",
       " 'hiyah',\n",
       " 'howdy',\n",
       " 'what up',\n",
       " 'whats good',\n",
       " 'holla',\n",
       " 'good afternoon',\n",
       " 'good morning',\n",
       " 'sup']"
      ]
     },
     "execution_count": 220,
     "metadata": {},
     "output_type": "execute_result"
    }
   ],
   "source": [
    "## Testing function\n",
    "\n",
    "beginning(['hello', 'hi', 'hiyah', 'howdy', 'what up', 'whats good', 'holla', 'good afternoon', 'good morning', 'sup', 'see yah', 'toodel loo', 'night', 'until later', 'peace', 'bye', 'good-bye', 'g night'])"
   ]
  },
  {
   "cell_type": "code",
   "execution_count": null,
   "metadata": {
    "collapsed": true
   },
   "outputs": [],
   "source": []
  }
 ],
 "metadata": {
  "kernelspec": {
   "display_name": "Python 3",
   "language": "python",
   "name": "python3"
  },
  "language_info": {
   "codemirror_mode": {
    "name": "ipython",
    "version": 3
   },
   "file_extension": ".py",
   "mimetype": "text/x-python",
   "name": "python",
   "nbconvert_exporter": "python",
   "pygments_lexer": "ipython3",
   "version": "3.6.7"
  }
 },
 "nbformat": 4,
 "nbformat_minor": 2
}
