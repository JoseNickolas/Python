{
 "cells": [
  {
   "cell_type": "markdown",
   "metadata": {},
   "source": [
    "### Write code to count the number of characters in original_str using the accumulation pattern and assign the answer to a variable num_chars. Do NOT use the len function to solve the problem (if you use it while you are working on this problem, comment it out afterward!)"
   ]
  },
  {
   "cell_type": "code",
   "execution_count": 5,
   "metadata": {},
   "outputs": [
    {
     "name": "stdout",
     "output_type": "stream",
     "text": [
      "57\n"
     ]
    }
   ],
   "source": [
    "original_str = \"The quick brown rhino jumped over the extremely lazy fox.\"\n",
    "# len(original_str)\n",
    "num_chars = 0\n",
    "for char in original_str:\n",
    "    num_chars += 1\n",
    "print(num_chars)"
   ]
  },
  {
   "cell_type": "markdown",
   "metadata": {},
   "source": [
    "### addition_str is a string with a list of numbers separated by the + sign. Write code that uses the accumulation pattern to take the sum of all of the numbers and assigns it to sum_val (an integer). (You should use the .split(\"+\") function to split by \"+\" and int() to cast to an integer)."
   ]
  },
  {
   "cell_type": "code",
   "execution_count": 564,
   "metadata": {},
   "outputs": [
    {
     "name": "stdout",
     "output_type": "stream",
     "text": [
      "['2', '5', '10', '20']\n",
      "2\n",
      "7\n",
      "17\n",
      "37\n",
      "37\n"
     ]
    }
   ],
   "source": [
    "addition_str = \"2+5+10+20\"\n",
    "addition_str = addition_str.split('+')\n",
    "print(addition_str)\n",
    "sum_val = 0\n",
    "for num in addition_str:\n",
    "    num = int(num)\n",
    "    sum_val += num\n",
    "    print(sum_val)\n",
    "print(sum_val)"
   ]
  },
  {
   "cell_type": "markdown",
   "metadata": {},
   "source": [
    "### week_temps_f is a string with a list of fahrenheit temperatures separated by the , sign. Write code that uses the accumulation pattern to compute the average (sum divided by number of items) and assigns it to avg_temp. Do not hard code your answer (i.e., make your code compute both the sum or the number of items in week_temps_f) (You should use the .split(\",\") function to split by \",\" and float() to cast to a float)."
   ]
  },
  {
   "cell_type": "code",
   "execution_count": 89,
   "metadata": {},
   "outputs": [
    {
     "name": "stdout",
     "output_type": "stream",
     "text": [
      "75.1\n",
      "76.4\n",
      "78.66666666666667\n",
      "79.625\n",
      "79.9\n",
      "79.83333333333333\n",
      "80.67142857142858\n"
     ]
    }
   ],
   "source": [
    "week_temps_f = \"75.1,77.7,83.2,82.5,81.0,79.5,85.7\"\n",
    "week_temps_f = week_temps_f.split(',')\n",
    "accum = 0\n",
    "accum_temp = 0\n",
    "for temp in week_temps_f: \n",
    "    temp = float(temp)\n",
    "#     print(temp)\n",
    "    accum_temp += temp\n",
    "    accum += 1\n",
    "    avg_temp = accum_temp / accum\n",
    "    print(avg_temp)"
   ]
  },
  {
   "cell_type": "markdown",
   "metadata": {},
   "source": [
    "### Write code to create a list of numbers from 0 to 67 and assign that list to the variable nums. Do not hard code the list."
   ]
  },
  {
   "cell_type": "code",
   "execution_count": 100,
   "metadata": {
    "collapsed": true
   },
   "outputs": [],
   "source": [
    "nums = range(68)\n",
    "nums = list(nums)\n",
    "# nums"
   ]
  },
  {
   "cell_type": "markdown",
   "metadata": {},
   "source": [
    "### Write code to create a list of word lengths for the words in original_str using the accumulation pattern and assign the answer to a variable num_words_list. (You should use the len function)."
   ]
  },
  {
   "cell_type": "code",
   "execution_count": 117,
   "metadata": {},
   "outputs": [
    {
     "name": "stdout",
     "output_type": "stream",
     "text": [
      "['The', 'quick', 'brown', 'rhino', 'jumped', 'over', 'the', 'extremely', 'lazy', 'fox']\n",
      "[3, 5, 5, 5, 6, 4, 3, 9, 4, 3]\n"
     ]
    }
   ],
   "source": [
    "original_str = \"The quick brown rhino jumped over the extremely lazy fox\"\n",
    "original_str = original_str.split()\n",
    "words = original_str\n",
    "print(words)\n",
    "num_words_list = []\n",
    "for word in words:\n",
    "    word_count = len(word)\n",
    "    num_words_list.append(word_count)\n",
    "print(num_words_list)"
   ]
  },
  {
   "cell_type": "code",
   "execution_count": 238,
   "metadata": {},
   "outputs": [
    {
     "name": "stdout",
     "output_type": "stream",
     "text": [
      "[3, 5, 5, 5, 6, 4, 3, 9, 4, 3]\n"
     ]
    }
   ],
   "source": [
    "original_str = \"The quick brown rhino jumped over the extremely lazy fox\"\n",
    "words = original_str.split()\n",
    "# print(words)\n",
    "# accum = 0\n",
    "num_words_list = []\n",
    "for word in words:\n",
    "#     accum += 1\n",
    "    word = len(word)\n",
    "    num_words_list.append(word)\n",
    "print(num_words_list)"
   ]
  },
  {
   "cell_type": "markdown",
   "metadata": {},
   "source": [
    "### Create an empty string and assign it to the variable lett. Then using range, write code such that when your code is run, lett has 7 b’s (\"bbbbbbb\")."
   ]
  },
  {
   "cell_type": "code",
   "execution_count": 152,
   "metadata": {},
   "outputs": [
    {
     "name": "stdout",
     "output_type": "stream",
     "text": [
      "bbbbbbb\n"
     ]
    }
   ],
   "source": [
    "left = ('')\n",
    "letters = range(7)\n",
    "accum = 0 #not necessary\n",
    "for letter in letters:\n",
    "    accum += 1 # not necessary\n",
    "    letter = ('b')\n",
    "    left += letter\n",
    "print(left)"
   ]
  },
  {
   "cell_type": "markdown",
   "metadata": {},
   "source": [
    "#### Create a list with the folowing labels: when rain is greater than 90, print \"Bring an umbrella.\"; when is greater than 80, \"Good for the flowers?\", when is greater than 50, \"Watch out for clouds!\", otherwise, print \"Nice day!\". Name the list resps."
   ]
  },
  {
   "cell_type": "code",
   "execution_count": 249,
   "metadata": {},
   "outputs": [
    {
     "name": "stdout",
     "output_type": "stream",
     "text": [
      "['Bring an umbrella.', 'Nice day!', 'Bring an umbrella.', 'Watch out for clouds!', 'Nice day!', 'Nice day!', 'Watch out for clouds!', 'Good for the flowers?']\n"
     ]
    }
   ],
   "source": [
    "percent_rain = [94.3, 45, 100, 78, 16, 5.3, 79, 86]\n",
    "\n",
    "resps = []\n",
    "for resp in percent_rain:\n",
    "    resp = float(resp)\n",
    "#     resps.append(output)\n",
    "    if resp > 90:\n",
    "        output = \"Bring an umbrella.\"\n",
    "        resps.append(output)\n",
    "    elif resp > 80:\n",
    "        output = \"Good for the flowers?\"\n",
    "        resps.append(output)\n",
    "    elif resp > 50:\n",
    "        output = \"Watch out for clouds!\"\n",
    "        resps.append(output)\n",
    "    else:\n",
    "        output = \"Nice day!\"\n",
    "        resps.append(output)\n",
    "print(resps)"
   ]
  },
  {
   "cell_type": "markdown",
   "metadata": {},
   "source": [
    "#### Create one conditional to find whether “false” is in string str1. If so, assign variable output the string “False. You aren’t you?”. Check to see if “true” is in string str1 and if it is then assign “True! You are you!” to the variable output. If neither are in str1, assign “Neither true nor false!” to output."
   ]
  },
  {
   "cell_type": "code",
   "execution_count": 250,
   "metadata": {},
   "outputs": [
    {
     "data": {
      "text/plain": [
       "'True! You are you!'"
      ]
     },
     "execution_count": 250,
     "metadata": {},
     "output_type": "execute_result"
    }
   ],
   "source": [
    "str1 = \"Today you are you! That is truer than true! There is no one alive who is you-er than you!\"\n",
    "\n",
    "if \"false\" in str1:\n",
    "    output = \"False. You aren’t you?\"\n",
    "elif \"true\" in str1:\n",
    "    output = \"True! You are you!\"\n",
    "else:\n",
    "    output = \"Neither true nor false!\"\n",
    "output"
   ]
  },
  {
   "cell_type": "markdown",
   "metadata": {},
   "source": [
    "### For each string in the list words, find the number of characters in the string. If the number of characters in the string is greater than 3, add 1 to the variable num_words so that num_words should end up with the total number of words with more than 3 characters."
   ]
  },
  {
   "cell_type": "code",
   "execution_count": 266,
   "metadata": {},
   "outputs": [
    {
     "name": "stdout",
     "output_type": "stream",
     "text": [
      "3\n"
     ]
    }
   ],
   "source": [
    "words = [\"water\", \"chair\", \"pen\", \"basket\", \"hi\", \"car\"]\n",
    "num_words = 0\n",
    "for word in words:\n",
    "    char_num = len(word)\n",
    "    if char_num > 3:\n",
    "        num_words += 1\n",
    "print(num_words)"
   ]
  },
  {
   "cell_type": "code",
   "execution_count": 267,
   "metadata": {},
   "outputs": [
    {
     "name": "stdout",
     "output_type": "stream",
     "text": [
      "['water', 'chair', 'basket']\n"
     ]
    }
   ],
   "source": [
    "words = [\"water\", \"chair\", \"pen\", \"basket\", \"hi\", \"car\"]\n",
    "num_words = []\n",
    "for word in words:\n",
    "    char_num = len(word)\n",
    "    if char_num > 3:\n",
    "        num_words.append(word)\n",
    "print(num_words)"
   ]
  },
  {
   "cell_type": "markdown",
   "metadata": {},
   "source": [
    "### Challenge For each word in words, add ‘d’ to the end of the word if the word ends in “e” to make it past tense. Otherwise, add ‘ed’ to make it past tense. Save these past tense words to a list called past_tense."
   ]
  },
  {
   "cell_type": "code",
   "execution_count": 289,
   "metadata": {},
   "outputs": [
    {
     "name": "stdout",
     "output_type": "stream",
     "text": [
      "['adopted', 'baked', 'beamed', 'confided', 'grilled', 'planted', 'timed', 'waved', 'wished']\n"
     ]
    }
   ],
   "source": [
    "words = [\"adopt\", \"bake\", \"beam\", \"confide\", \"grill\", \"plant\", \"time\", \"wave\", \"wish\"]\n",
    "\n",
    "past_tense = []\n",
    "d_add = 'd'\n",
    "ed_add = 'ed'\n",
    "for word in words:\n",
    "    last_char = word[-1]\n",
    "#     print(word)\n",
    "    if last_char == 'e':\n",
    "        output = word + d_add\n",
    "        past_tense.append(output)\n",
    "#         print(output)\n",
    "    else:\n",
    "        output = word + ed_add\n",
    "        past_tense.append(output)\n",
    "print(past_tense)"
   ]
  },
  {
   "cell_type": "code",
   "execution_count": 287,
   "metadata": {},
   "outputs": [
    {
     "name": "stdout",
     "output_type": "stream",
     "text": [
      "['adopted', 'baked', 'beamed', 'confided', 'grilled', 'planted', 'timed', 'waved', 'wished']\n"
     ]
    }
   ],
   "source": [
    "words = [\"adopt\", \"bake\", \"beam\", \"confide\", \"grill\", \"plant\", \"time\", \"wave\", \"wish\"]\n",
    "\n",
    "past_tense = []\n",
    "d_add = 'd'\n",
    "ed_add = 'ed'\n",
    "for word in words:\n",
    "    last_char = word[-1]\n",
    "#     print(word)\n",
    "    if last_char == 'e':\n",
    "        output = word + d_add\n",
    "        past_tense.append(output)\n",
    "#         print(output)\n",
    "    elif last_char != 'e':\n",
    "        output = word + ed_add\n",
    "        past_tense.append(output)\n",
    "print(past_tense)"
   ]
  },
  {
   "cell_type": "markdown",
   "metadata": {},
   "source": [
    "### rainfall_mi is a string that contains the average number of inches of rainfall in Michigan for every month (in inches) with every month separated by a comma. Write code to compute the number of months that have more than 3 inches of rainfall. Store the result in the variable num_rainy_months. In other words, count the number of items with values > 3.0."
   ]
  },
  {
   "cell_type": "code",
   "execution_count": 310,
   "metadata": {},
   "outputs": [
    {
     "name": "stdout",
     "output_type": "stream",
     "text": [
      "5\n"
     ]
    }
   ],
   "source": [
    "rainfall_mi = \"1.65, 1.46, 2.05, 3.03, 3.35, 3.46, 2.83, 3.23, 3.5, 2.52, 2.8, 1.85\"\n",
    "months = rainfall_mi.split(',')\n",
    "num_rainy_months = 0\n",
    "for month in months:\n",
    "    month = float(month)\n",
    "    if month > 3.0:\n",
    "        num_rainy_months += 1\n",
    "print(num_rainy_months)"
   ]
  },
  {
   "cell_type": "markdown",
   "metadata": {},
   "source": [
    "### The variable sentence stores a string. Write code to determine how many words in sentence start and end with the same letter, including one-letter words. Store the result in the variable same_letter_count."
   ]
  },
  {
   "cell_type": "code",
   "execution_count": 316,
   "metadata": {},
   "outputs": [
    {
     "name": "stdout",
     "output_type": "stream",
     "text": [
      "2\n"
     ]
    }
   ],
   "source": [
    "sentence = \"students flock to the arb for a variety of outdoor activities such as jogging and picnicking\"\n",
    "sentence = sentence.split()\n",
    "\n",
    "same_letter_count = 0\n",
    "for word in sentence:\n",
    "    if word[0] == word[-1]:\n",
    "        same_letter_count += 1\n",
    "print(same_letter_count)"
   ]
  },
  {
   "cell_type": "markdown",
   "metadata": {},
   "source": [
    "### Write code to count the number of strings in list items that have the character w in it. Assign that number to the variable acc_num.\n",
    "##### HINT 1: Use the accumulation pattern!\n",
    "##### HINT 2: the in operator checks whether a substring is present in a string."
   ]
  },
  {
   "cell_type": "code",
   "execution_count": 473,
   "metadata": {},
   "outputs": [
    {
     "name": "stdout",
     "output_type": "stream",
     "text": [
      "whirring\n",
      "wow!\n",
      "wry\n",
      "owing\n",
      "4\n"
     ]
    }
   ],
   "source": [
    "items = [\"whirring\", \"wow!\", \"calendar\", \"wry\", \"glass\", \"\", \"llama\",\"tumultuous\",\"owing\"]\n",
    "# items = str(items)\n",
    "\n",
    "acc_num = 0\n",
    "letter = 'w'\n",
    "\n",
    "for char in items:\n",
    "    if letter in char:\n",
    "        acc_num += 1\n",
    "        print(char)\n",
    "print(acc_num)"
   ]
  },
  {
   "cell_type": "code",
   "execution_count": 472,
   "metadata": {},
   "outputs": [
    {
     "name": "stdout",
     "output_type": "stream",
     "text": [
      "3\n"
     ]
    }
   ],
   "source": [
    "s = \"what if we went to the zoo\"\n",
    "\n",
    "x = 0\n",
    "for i in s:\n",
    "    if i in ['w']:\n",
    "        x += 1\n",
    "print(x)"
   ]
  },
  {
   "cell_type": "markdown",
   "metadata": {},
   "source": [
    "### Write code that counts the number of words in sentence that contain either an “a” or an “e”. Store the result in the variable num_a_or_e.\n",
    "#### Note 1: be sure to not double-count words that contain both an a and an e.\n",
    "#### HINT 1: Use the in operator.\n",
    "#### HINT 2: You can either use or or elif.\n"
   ]
  },
  {
   "cell_type": "code",
   "execution_count": 496,
   "metadata": {},
   "outputs": [
    {
     "name": "stdout",
     "output_type": "stream",
     "text": [
      "a\n",
      "level\n",
      "general\n",
      "purpose\n",
      "programming\n",
      "language\n",
      "that\n",
      "can\n",
      "be\n",
      "applied\n",
      "many\n",
      "different\n",
      "classes\n",
      "problems.\n",
      "14\n"
     ]
    }
   ],
   "source": [
    "sentence = \"python is a high level general purpose programming language that can be applied to many different classes of problems.\"\n",
    "sentence = sentence.split()\n",
    "letter_a = 'a'\n",
    "letter_b = 'e'\n",
    "num_a_or_e = 0\n",
    "for word in sentence:\n",
    "    if letter_a in word:\n",
    "        num_a_or_e += 1\n",
    "        print(word)\n",
    "    elif letter_b in word:\n",
    "        num_a_or_e += 1\n",
    "        print(word)\n",
    "print(num_a_or_e)"
   ]
  },
  {
   "cell_type": "markdown",
   "metadata": {},
   "source": [
    "### Write code that will count the number of vowels in the sentence s and assign the result to the variable num_vowels. For this problem, vowels are only a, e, i, o, and u. Hint: use the in operator with vowels."
   ]
  },
  {
   "cell_type": "code",
   "execution_count": 539,
   "metadata": {},
   "outputs": [
    {
     "name": "stdout",
     "output_type": "stream",
     "text": [
      "32\n"
     ]
    }
   ],
   "source": [
    "s = \"singing in the rain and playing in the rain are two entirely different situations but both can be fun\"\n",
    "\n",
    "vowels = ['a','e','i','o','u']\n",
    "\n",
    "num_vowels = 0\n",
    "\n",
    "for char in s:\n",
    "    if char in vowels:\n",
    "        num_vowels += 1\n",
    "print(num_vowels)"
   ]
  },
  {
   "cell_type": "markdown",
   "metadata": {},
   "source": [
    "### Counting the number of vowels for each word"
   ]
  },
  {
   "cell_type": "code",
   "execution_count": 2,
   "metadata": {},
   "outputs": [
    {
     "name": "stdout",
     "output_type": "stream",
     "text": [
      "singing 2\n",
      "in 1\n",
      "the 1\n",
      "rain 2\n",
      "and 1\n",
      "playing 2\n",
      "in 1\n",
      "the 1\n",
      "rain 2\n",
      "are 2\n",
      "two 1\n",
      "entirely 3\n",
      "different 3\n",
      "situations 5\n",
      "but 1\n",
      "both 1\n",
      "can 1\n",
      "be 1\n",
      "fun 1\n"
     ]
    }
   ],
   "source": [
    "s = \"singing in the rain and playing in the rain are two entirely different situations but both can be fun\"\n",
    "s = s.split()\n",
    "\n",
    "vowels = ['a','e','i','o','u']\n",
    "\n",
    "for word in s:\n",
    "    num_vowels = 0 #initialize the acumulator within the foor loop block\n",
    "    for char in word:\n",
    "#         print(letter)\n",
    "        if char in vowels:\n",
    "            num_vowels += 1\n",
    "    print(word, num_vowels)"
   ]
  },
  {
   "cell_type": "code",
   "execution_count": null,
   "metadata": {
    "collapsed": true
   },
   "outputs": [],
   "source": []
  }
 ],
 "metadata": {
  "kernelspec": {
   "display_name": "Python 3",
   "language": "python",
   "name": "python3"
  },
  "language_info": {
   "codemirror_mode": {
    "name": "ipython",
    "version": 3
   },
   "file_extension": ".py",
   "mimetype": "text/x-python",
   "name": "python",
   "nbconvert_exporter": "python",
   "pygments_lexer": "ipython3",
   "version": "3.6.7"
  }
 },
 "nbformat": 4,
 "nbformat_minor": 2
}
